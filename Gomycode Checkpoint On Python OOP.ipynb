{
 "cells": [
  {
   "cell_type": "markdown",
   "id": "06ca5089",
   "metadata": {},
   "source": [
    "### What You're Aiming For\n",
    "\n",
    "#### Create a class called \"Account\" that has the following attributes:\n",
    "\n",
    "- account_number (string)\n",
    "- account_balance (float)\n",
    "- account_holder (string)\n",
    "##### The class should have the following methods:\n",
    "\n",
    "- deposit(amount: float) - This method should add the amount passed as an argument to the account balance.\n",
    "- withdraw(amount: float) - This method should subtract the amount passed as an argument from the account balance, but only if the account balance is greater than the amount being withdrawn.\n",
    "- check_balance() - This method should return the current account balance.\n",
    "\n",
    "##### Instructions\n",
    "\n",
    "- Create a new file called \"bank_account.py\"\n",
    "\n",
    "- Define the Account class and its attributes as specified above.\n",
    "\n",
    "- Define the deposit() method. It should take in one argument, the amount to be deposited, and add it to the account balance.\n",
    "\n",
    "- Define the withdraw() method. It should take in one argument, the amount to be withdrawn, and subtract it from the account balance. The method should only execute the withdrawal if the account balance is greater than or equal to the amount to be withdrawn.\n",
    "\n",
    "- Define the check_balance() method. It should return the current account balance.\n",
    "\n",
    "- Create an instance of the Account class, and assign it to a variable called \"my_account\".\n",
    "\n",
    "- Use the methods of the class to deposit and withdraw money from the account, and check the account balance.\n",
    "\n",
    "- Test the program by creating multiple instances of the class and performing different transactions on them."
   ]
  },
  {
   "cell_type": "code",
   "execution_count": 14,
   "id": "6fa6d102",
   "metadata": {},
   "outputs": [
    {
     "name": "stdout",
     "output_type": "stream",
     "text": [
      "How much would you like to deposit: 300000000\n",
      "Successfully Deposited\n",
      "would you llike to make a withdraw today, Yes(Y)/ No(N): y\n",
      "How much would you like to withdraw: 100000000\n",
      "withdraw $100000000.0. New balance: $300000000.0\n",
      "Current Balance: $300000000.0\n"
     ]
    }
   ],
   "source": [
    "class Account:\n",
    "    def __init__(self, account_number:str, account_balance:float, account_holder:str):\n",
    "        self.account_number = account_number\n",
    "        self.account_balance = account_balance\n",
    "        self.account_holder = account_holder\n",
    "    def deposit(self, amount:float):\n",
    "        if amount > 0:\n",
    "            self.account_balance += amount\n",
    "            return amount\n",
    "        else:\n",
    "            print(\"Invalid deposit amount, provide a valid value\")\n",
    "    def withdraw(self, amount:float):\n",
    "        if amount > 0 and self.account_balance >= amount:\n",
    "            self.account_balance -= amount\n",
    "            print(f'withdraw ${amount}. New balance: ${self.account_balance}')\n",
    "            return amount\n",
    "        else:\n",
    "            print(\"Insufficient Balance\")\n",
    "    def check_balance(self):\n",
    "        return self.account_balance\n",
    "    \n",
    "My_Account = Account(account_number=\"3140480660\", account_balance = 100000000, account_holder=\"Charles Iheoma\")\n",
    "    \n",
    "while True:\n",
    "    deposit_amount = int(input(\"How much would you like to deposit: \"))\n",
    "    if deposit_amount >= 0:\n",
    "        My_Account.deposit(deposit_amount)\n",
    "        print(\"Successfully Deposited\")\n",
    "        choice = input(\"would you llike to make a withdraw today, Yes(Y)/ No(N): \")\n",
    "        if choice.lower() == \"y\":\n",
    "            withdrawal_amount = float(input(\"How much would you like to withdraw: \"))\n",
    "            My_Account.withdraw(withdrawal_amount)\n",
    "            break\n",
    "        elif choice.lower() == \"n\":\n",
    "            print(\"Thanks for coming\")\n",
    "            break\n",
    "        else:\n",
    "            print(\"Invalid input, please input the below options,\\n Y/N: \")\n",
    "        break\n",
    "    else:\n",
    "        print(\"Enter a valid amount: \")\n",
    "        \n",
    "        \n",
    "print(f\"Current Balance: ${My_Account.check_balance()}\")"
   ]
  }
 ],
 "metadata": {
  "kernelspec": {
   "display_name": "Python 3 (ipykernel)",
   "language": "python",
   "name": "python3"
  },
  "language_info": {
   "codemirror_mode": {
    "name": "ipython",
    "version": 3
   },
   "file_extension": ".py",
   "mimetype": "text/x-python",
   "name": "python",
   "nbconvert_exporter": "python",
   "pygments_lexer": "ipython3",
   "version": "3.11.7"
  }
 },
 "nbformat": 4,
 "nbformat_minor": 5
}
