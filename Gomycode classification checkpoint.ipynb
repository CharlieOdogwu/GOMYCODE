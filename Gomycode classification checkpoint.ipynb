{
 "cells": [
  {
   "cell_type": "markdown",
   "id": "56af00a0-7f3e-4d42-9c79-ab85e0d706ba",
   "metadata": {},
   "source": [
    "- Import you data and perform basic data exploration phase\n",
    "- Display general information about the dataset\n",
    "- Create a pandas profiling reports to gain insights into the dataset\n",
    "- Handle Missing and corrupted values\n",
    "- Remove duplicates, if they exist\n",
    "- Handle outliers, if they exist\n",
    "- Encode categorical features\n",
    "- Select your target variable and the features\n",
    "- Split your dataset to training and test sets\n",
    "- Based on your data exploration phase select a ML classification algorithm and train it on the training set\n",
    "- Assess your model performance on the test set using relevant evaluation metrics\n",
    "- Discuss with your cohort alternative ways to improve your model performance"
   ]
  },
  {
   "cell_type": "code",
   "execution_count": null,
   "id": "938f5b4f-e6b6-4705-8b07-b7a4708d9af8",
   "metadata": {},
   "outputs": [],
   "source": [
    "import warnings\n",
    "warnings.filterwarnings(\"ignore\")"
   ]
  },
  {
   "cell_type": "code",
   "execution_count": null,
   "id": "dbc656b8-0037-4d50-8c2b-f1819030ece1",
   "metadata": {},
   "outputs": [],
   "source": [
    "#import linear algebra and data manipulation libraries\n",
    "import numpy as np\n",
    "import pandas as pd\n",
    "\n",
    "#import standard visualization\n",
    "import matplotlib.pyplot as plt\n",
    "import seaborn as sns\n",
    "\n",
    "#import machine learning\n",
    "from sklearn.linear_model import LogisticRegression\n",
    "from sklearn.tree import DecisionTreeClassifier\n",
    "from sklearn.ensemble import RandomForestClassifier\n",
    "from sklearn.ensemble import AdaBoostClassifier, GradientBoostingClassifier\n",
    "from sklearn.svm import SVC\n",
    "from sklearn.neighbors import KNeighborsClassifier\n",
    "from sklearn.naive_bayes import GaussianNB\n",
    "\n",
    "import xgboost\n",
    "\n",
    "from sklearn.model_selection import train_test_split #split\n",
    "from sklearn.metrics import accuracy_score #metrics\n",
    "from sklearn.metrics import confusion_matrix\n",
    "from sklearn.metrics import classification_report\n",
    "\n",
    "#tools for hyperparameters search\n",
    "from sklearn.model_selection import StratifiedKFold\n",
    "from sklearn.model_selection import RandomizedSearchCV, GridSearchCV\n",
    "\n",
    "# import the label Encoder library \n",
    "from sklearn.preprocessing import LabelEncoder\n",
    "label_encoder = LabelEncoder()\n",
    "\n",
    "from sklearn.preprocessing import StandardScaler"
   ]
  },
  {
   "cell_type": "code",
   "execution_count": null,
   "id": "3c16fc30-792c-49e1-ac0f-58fc3f7c485b",
   "metadata": {},
   "outputs": [],
   "source": [
    "df = pd.read_csv(\"African_crises_dataset - African_crises_dataset.csv\")"
   ]
  },
  {
   "cell_type": "code",
   "execution_count": null,
   "id": "1867fb0b-358f-4168-aa1f-58a49bd96c12",
   "metadata": {},
   "outputs": [],
   "source": [
    "df"
   ]
  },
  {
   "cell_type": "code",
   "execution_count": null,
   "id": "e23f44d2",
   "metadata": {},
   "outputs": [],
   "source": [
    "df.info()"
   ]
  },
  {
   "cell_type": "code",
   "execution_count": null,
   "id": "15bfc1b4",
   "metadata": {},
   "outputs": [],
   "source": [
    "le =LabelEncoder()\n",
    "\n",
    "df[\"banking_crisis\"] = le.fit_transform(df[\"banking_crisis\"])"
   ]
  },
  {
   "cell_type": "code",
   "execution_count": null,
   "id": "4ee09a0e",
   "metadata": {},
   "outputs": [],
   "source": [
    "categorical_features = df.select_dtypes(include='object').columns\n",
    "categorical_features"
   ]
  },
  {
   "cell_type": "code",
   "execution_count": null,
   "id": "3d89ecd3",
   "metadata": {},
   "outputs": [],
   "source": [
    "df[\"country_code\"].value_counts()"
   ]
  },
  {
   "cell_type": "code",
   "execution_count": null,
   "id": "29db0cd4",
   "metadata": {},
   "outputs": [],
   "source": [
    "df[\"country\"].value_counts()"
   ]
  },
  {
   "cell_type": "code",
   "execution_count": null,
   "id": "fed7d7e7",
   "metadata": {},
   "outputs": [],
   "source": [
    "%matplotlib inline\n",
    "plt.figure(figsize=(25, 25))\n",
    "for i in range(0, len(categorical_features)):\n",
    "    plt.subplot(4, 4, i+1)\n",
    "    sns.countplot(x = df[categorical_features[i]], palette = 'viridis')\n",
    "    plt.title(categorical_features[i], fontsize = 30)\n",
    "    plt.xlabel(' ')\n",
    "    plt.xticks(rotation=90)\n",
    "    plt.tight_layout()"
   ]
  },
  {
   "cell_type": "code",
   "execution_count": null,
   "id": "5e839d8a",
   "metadata": {},
   "outputs": [],
   "source": [
    "numerical_features = df.select_dtypes(include='number').columns\n",
    "numerical_features"
   ]
  },
  {
   "cell_type": "code",
   "execution_count": null,
   "id": "a4abba70",
   "metadata": {},
   "outputs": [],
   "source": [
    "len(numerical_features)"
   ]
  },
  {
   "cell_type": "code",
   "execution_count": null,
   "id": "7584823b",
   "metadata": {},
   "outputs": [],
   "source": [
    "df.describe().T"
   ]
  },
  {
   "cell_type": "code",
   "execution_count": null,
   "id": "52d3af99",
   "metadata": {},
   "outputs": [],
   "source": [
    "plt.figure(figsize=(25, 25))\n",
    "for i in range(0, len(numerical_features)):\n",
    "    plt.subplot(4, 3, i+1)\n",
    "    sns.boxplot(x = df[numerical_features[i]], palette = 'viridis')\n",
    "    plt.title(numerical_features[i], fontsize = 30)\n",
    "    plt.xlabel(' ')\n",
    "    plt.tight_layout()"
   ]
  },
  {
   "cell_type": "code",
   "execution_count": null,
   "id": "b6585fd3",
   "metadata": {},
   "outputs": [],
   "source": [
    "plt.figure(figsize=(30, 20))\n",
    "correlation_matrix = df[numerical_features].corr()\n",
    "sns.heatmap(correlation_matrix, annot=True, cmap='coolwarm', fmt='.2f')\n",
    "plt.title('Correlation Matrix')\n",
    "plt.show()"
   ]
  },
  {
   "cell_type": "code",
   "execution_count": null,
   "id": "cb1d664e",
   "metadata": {},
   "outputs": [],
   "source": [
    "numerical_features = df.select_dtypes(include='number').columns\n",
    "correlation = df[numerical_features].corr().apply(abs)\n",
    "correlation = correlation[['banking_crisis']].sort_values(['banking_crisis'], ascending=False)\n",
    "correlation\n",
    "\n",
    "# Set a threshold for low correlation (e.g., absolute correlation < 0.1)\n",
    "threshold = 0.2\n",
    "\n",
    "# Filter the column names that have an absolute correlation with SalePrice below the threshold\n",
    "low_corr_columns = correlation[correlation['banking_crisis']< threshold].index.tolist()\n",
    "\n",
    "# Print the list of columns with low correlation\n",
    "print(f\"Columns with correlation less than {threshold}:\\n\", low_corr_columns)"
   ]
  },
  {
   "cell_type": "code",
   "execution_count": null,
   "id": "9f5876e0",
   "metadata": {},
   "outputs": [],
   "source": [
    "df = df.drop(columns=low_corr_columns)\n"
   ]
  },
  {
   "cell_type": "code",
   "execution_count": null,
   "id": "8f0e35c1",
   "metadata": {},
   "outputs": [],
   "source": [
    "df"
   ]
  },
  {
   "cell_type": "code",
   "execution_count": null,
   "id": "93b77cc8",
   "metadata": {},
   "outputs": [],
   "source": [
    "df = df.drop([\"country_code\"], axis = 1)"
   ]
  },
  {
   "cell_type": "code",
   "execution_count": null,
   "id": "bc43adb7",
   "metadata": {},
   "outputs": [],
   "source": [
    "df = df.join(pd.get_dummies(df[\"country\"]))"
   ]
  },
  {
   "cell_type": "code",
   "execution_count": null,
   "id": "f533421e",
   "metadata": {},
   "outputs": [],
   "source": [
    "df = df.drop([\"country\"], axis = 1)"
   ]
  },
  {
   "cell_type": "code",
   "execution_count": null,
   "id": "120ede5e",
   "metadata": {},
   "outputs": [],
   "source": [
    "df"
   ]
  },
  {
   "cell_type": "code",
   "execution_count": null,
   "id": "d4ecbfa6",
   "metadata": {},
   "outputs": [],
   "source": [
    "X = df.drop(columns=['banking_crisis'])  # Drop the target column to get features\n",
    "y = df['banking_crisis']  # Select the target column"
   ]
  },
  {
   "cell_type": "code",
   "execution_count": null,
   "id": "766f4c8a",
   "metadata": {},
   "outputs": [],
   "source": [
    "X_train, X_test, y_train, y_test = train_test_split(X, y, test_size=0.2, random_state=42)"
   ]
  },
  {
   "cell_type": "code",
   "execution_count": null,
   "id": "ece8520d",
   "metadata": {},
   "outputs": [],
   "source": [
    "# Create a StandardScaler instance\n",
    "scaler = StandardScaler()\n",
    "\n",
    "# Fit and transform the training data\n",
    "X_train_scaled = scaler.fit_transform(X_train)\n",
    "\n",
    "# Transform the test data\n",
    "X_test_scaled = scaler.transform(X_test)"
   ]
  },
  {
   "cell_type": "markdown",
   "id": "174d0b11",
   "metadata": {},
   "source": [
    "# Selecting Algorithm"
   ]
  },
  {
   "cell_type": "markdown",
   "id": "7ba1bd08",
   "metadata": {},
   "source": [
    "### 1. XGBoost Classifier"
   ]
  },
  {
   "cell_type": "code",
   "execution_count": null,
   "id": "eb64fae0",
   "metadata": {},
   "outputs": [],
   "source": [
    "import xgboost\n",
    "\n",
    "xgb = xgboost.XGBClassifier(n_estimators=100, learning_rate=0.08, gamma=0, subsample=0.75,\n",
    "                           colsample_bytree=1, max_depth=7)\n",
    "xgb.fit(X_train,y_train.squeeze().values)\n",
    "\n",
    "#calculate and print scores for the model for the features\n",
    "y_pred_xgb = xgb.predict(X_test)\n",
    "accuracy_xgb = accuracy_score(y_test, y_pred_xgb)\n",
    "conf_matrix_xgb = confusion_matrix(y_test, y_pred_xgb)\n",
    "class_report_xgb = classification_report(y_test, y_pred_xgb)\n",
    "\n",
    "print(f\"Extreme Gradient Boost Classifier:\")\n",
    "print(f\"Accuracy: {accuracy_xgb:.4f}\")\n",
    "print(\"Confusion Matrix:\")\n",
    "print(conf_matrix_xgb)\n",
    "print(\"Classification Report:\")\n",
    "print(class_report_xgb)"
   ]
  },
  {
   "cell_type": "markdown",
   "id": "681372e3",
   "metadata": {},
   "source": [
    "### 2. Support Vector Classifier(SVC)"
   ]
  },
  {
   "cell_type": "code",
   "execution_count": null,
   "id": "39ced210",
   "metadata": {},
   "outputs": [],
   "source": [
    "scaler = StandardScaler()\n",
    "X_train_scaled = scaler.fit_transform(X_train)\n",
    "X_test_scaled = scaler.transform(X_test)\n",
    "\n",
    "svc_class = SVC(kernel='rbf')\n",
    "svc_class.fit(X_train_scaled, y_train)\n",
    "y_pred_svc = svc_class.predict(X_test_scaled)\n",
    "accuracy_svc = accuracy_score(y_test, y_pred_svc)\n",
    "conf_matrix_svc = confusion_matrix(y_test, y_pred_svc)\n",
    "class_report_svc = classification_report(y_test, y_pred_svc)\n",
    "\n",
    "print(f\"Support Vector Classification:\")\n",
    "print(f\"Accuracy: {accuracy_svc:.4f}\")\n",
    "print(\"Confusion Matrix:\")\n",
    "print(conf_matrix_svc)\n",
    "print(\"Classification Report:\")\n",
    "print(class_report_svc)"
   ]
  },
  {
   "cell_type": "markdown",
   "id": "4982f82c",
   "metadata": {},
   "source": [
    "### 3. Decision Tree Classifier"
   ]
  },
  {
   "cell_type": "code",
   "execution_count": null,
   "id": "9d03b776",
   "metadata": {},
   "outputs": [],
   "source": [
    "scaler = StandardScaler()\n",
    "X_train_scaled = scaler.fit_transform(X_train)\n",
    "X_test_scaled = scaler.transform(X_test)\n",
    "\n",
    "tree_clf = DecisionTreeClassifier()\n",
    "\n",
    "tree_clf.fit(X_train_scaled, y_train)\n",
    "y_pred_tree = tree_clf.predict(X_test_scaled)\n",
    "accuracy_tree = accuracy_score(y_test, y_pred_tree)\n",
    "conf_matrix_tree = confusion_matrix(y_test, y_pred_tree)\n",
    "class_report_tree = classification_report(y_test, y_pred_tree)\n",
    "\n",
    "print(f\"Decision Tree Classifier:\")\n",
    "print(f\"Accuracy: {accuracy_tree:.4f}\")\n",
    "print(\"Confusion Matrix:\")\n",
    "print(conf_matrix_tree)\n",
    "print(\"Classification Report:\")\n",
    "print(class_report_tree)"
   ]
  },
  {
   "cell_type": "markdown",
   "id": "0c1e1b22",
   "metadata": {},
   "source": [
    "### 4. Logistic Regression"
   ]
  },
  {
   "cell_type": "code",
   "execution_count": null,
   "id": "b6b0b55c",
   "metadata": {},
   "outputs": [],
   "source": [
    "log_reg = LogisticRegression()\n",
    "log_reg.fit(X_train_scaled, y_train)\n",
    "y_pred_log = log_reg.predict(X_test_scaled)\n",
    "y_train_pred_log = log_reg.predict(X_train_scaled)\n",
    "\n",
    "accuracy_log = accuracy_score(y_test, y_pred_log)\n",
    "conf_matrix_log = confusion_matrix(y_test, y_pred_log)\n",
    "class_report_log = classification_report(y_test, y_pred_log)\n",
    "\n",
    "print(f\"Logiistic Regression:\")\n",
    "print(f\"Accuracy: {accuracy_log:.4f}\")\n",
    "print(\"Confusion Matrix:\")\n",
    "print(conf_matrix_log)\n",
    "print(\"Classification Report:\")\n",
    "print(class_report_log)"
   ]
  },
  {
   "cell_type": "markdown",
   "id": "52b06a5f",
   "metadata": {},
   "source": [
    "### 5. KNeighbors Classifier"
   ]
  },
  {
   "cell_type": "code",
   "execution_count": null,
   "id": "784fe3dd",
   "metadata": {},
   "outputs": [],
   "source": [
    "KN = KNeighborsClassifier()\n",
    "KN.fit(X_train_scaled, y_train)\n",
    "y_pred_KN = KN.predict(X_test_scaled)\n",
    "y_train_pred_KN = KN.predict(X_train_scaled)\n",
    "\n",
    "accuracy_KN = accuracy_score(y_test, y_pred_KN)\n",
    "conf_matrix_KN = confusion_matrix(y_test, y_pred_KN)\n",
    "class_report_KN = classification_report(y_test, y_pred_KN)\n",
    "\n",
    "print(f\"KNeighbors Classifier:\")\n",
    "print(f\"Accuracy: {accuracy_KN:.4f}\")\n",
    "print(\"Confusion Matrix:\")\n",
    "print(conf_matrix_KN)\n",
    "print(\"Classification Report:\")\n",
    "print(class_report_KN)"
   ]
  },
  {
   "cell_type": "markdown",
   "id": "46a0127e",
   "metadata": {},
   "source": [
    "### 3. Random Forest Classifier"
   ]
  },
  {
   "cell_type": "code",
   "execution_count": null,
   "id": "0b19ad9e",
   "metadata": {},
   "outputs": [],
   "source": [
    "scaler = StandardScaler()\n",
    "X_train_scaled = scaler.fit_transform(X_train)\n",
    "X_test_scaled = scaler.transform(X_test)\n",
    "\n",
    "forest_clf = RandomForestClassifier()\n",
    "\n",
    "forest_clf.fit(X_train_scaled, y_train)\n",
    "y_pred_forest = forest_clf.predict(X_test_scaled)\n",
    "accuracy_forest = accuracy_score(y_test, y_pred_forest)\n",
    "conf_matrix_forest = confusion_matrix(y_test, y_pred_forest)\n",
    "class_report_forest = classification_report(y_test, y_pred_forest)\n",
    "\n",
    "print(f\"Random Forest Classifier:\")\n",
    "print(f\"Accuracy: {accuracy_forest:.4f}\")\n",
    "print(\"Confusion Matrix:\")\n",
    "print(conf_matrix_forest)\n",
    "print(\"Classification Report:\")\n",
    "print(class_report_forest)"
   ]
  }
 ],
 "metadata": {
  "kernelspec": {
   "display_name": "Python 3 (ipykernel)",
   "language": "python",
   "name": "python3"
  },
  "language_info": {
   "codemirror_mode": {
    "name": "ipython",
    "version": 3
   },
   "file_extension": ".py",
   "mimetype": "text/x-python",
   "name": "python",
   "nbconvert_exporter": "python",
   "pygments_lexer": "ipython3",
   "version": "3.11.7"
  }
 },
 "nbformat": 4,
 "nbformat_minor": 5
}
