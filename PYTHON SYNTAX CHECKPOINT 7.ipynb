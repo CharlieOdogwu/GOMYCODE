{
 "cells": [
  {
   "cell_type": "code",
   "execution_count": 3,
   "id": "d16a3e4b-ec2c-4178-91b0-25f6490d8bbb",
   "metadata": {},
   "outputs": [
    {
     "name": "stdout",
     "output_type": "stream",
     "text": [
      "What size of pizza would you like to order? (Small(S)/Medium(M)/Large(L)): m\n",
      "Pizza: $20\n",
      "\n",
      "\n",
      "Would you like to add Pepperoni to you order? Yes(Y)/ No(N): n\n",
      "\n",
      "\n",
      "Extra Cheese? Yes(Y)/ No(N): y\n",
      "Pizza and Pepperoni with Extra Cheese: $21\n",
      "\n",
      "\n",
      "Your Total Price is: $21\n"
     ]
    }
   ],
   "source": [
    "'Welcome to Python Pizza Deliveries\\n\\n' \n",
    "price = 0\n",
    "# Creating the size of pizza order.\n",
    "while True:\n",
    "    size = input('What size of pizza would you like to order? (Small(S)/Medium(M)/Large(L)): ')\n",
    "\n",
    "    if size.upper() == \"S\":\n",
    "        price += 15\n",
    "        print(f\"Pizza: ${price}\")\n",
    "        break\n",
    "    elif size.upper() == \"M\":\n",
    "        price += 20\n",
    "        print(f\"Pizza: ${price}\")\n",
    "        break\n",
    "    elif size.upper() == \"L\":\n",
    "        price += 25\n",
    "        print(f\"Pizza: ${price}\")\n",
    "        break\n",
    "    else:\n",
    "        print(\"Invalid entry. Please Insert S, M, or L.\")\n",
    "        \n",
    "# Creating the Pepperoni order.\n",
    "while True:\n",
    "    Add_Pepperoni = input(\"\\n\\nWould you like to add Pepperoni to you order? Yes(Y)/ No(N): \")\n",
    "    \n",
    "    if Add_Pepperoni.upper() == \"Y\":\n",
    "        if size.upper() == \"S\":\n",
    "            price += 2\n",
    "            print(f\"Pizza and Pepperoni: ${price}\")\n",
    "            break\n",
    "        elif size.upper() == \"M\":\n",
    "            price += 3\n",
    "            print(f\"Pizza and Pepperoni: ${price}\")\n",
    "            break\n",
    "        elif size.upper() == \"L\":\n",
    "            price += 3\n",
    "            print(f\"Pizza and Pepperoni: ${price}\")\n",
    "            break\n",
    "        \n",
    "    elif Add_Pepperoni.upper() == \"N\":\n",
    "        price += 0\n",
    "        break\n",
    "        \n",
    "    else:\n",
    "         print(\"Invalid Entry. Please Insert Y or N\")\n",
    "\n",
    "# Creating the cheese order\n",
    "while True:   \n",
    "    Extra_Cheese = input(\"\\n\\nExtra Cheese? Yes(Y)/ No(N): \")\n",
    "        \n",
    "    if Extra_Cheese.upper() == \"Y\":\n",
    "        price += 1\n",
    "        print(f\"Pizza and Pepperoni with Extra Cheese: ${price}\")\n",
    "        break\n",
    "    elif Extra_Cheese.upper() == \"N\":\n",
    "        price += 0\n",
    "        break\n",
    "    \n",
    "    else:\n",
    "         print(\"Invalid Entry. Please Insert Y or N.\")\n",
    "\n",
    "print(f\"\\n\\nYour Total Price is: ${price}\")"
   ]
  },
  {
   "cell_type": "code",
   "execution_count": null,
   "id": "a3c2793f-d8a8-4d2a-8c2b-fa52f3391c51",
   "metadata": {},
   "outputs": [],
   "source": []
  }
 ],
 "metadata": {
  "kernelspec": {
   "display_name": "Python 3 (ipykernel)",
   "language": "python",
   "name": "python3"
  },
  "language_info": {
   "codemirror_mode": {
    "name": "ipython",
    "version": 3
   },
   "file_extension": ".py",
   "mimetype": "text/x-python",
   "name": "python",
   "nbconvert_exporter": "python",
   "pygments_lexer": "ipython3",
   "version": "3.11.7"
  }
 },
 "nbformat": 4,
 "nbformat_minor": 5
}
