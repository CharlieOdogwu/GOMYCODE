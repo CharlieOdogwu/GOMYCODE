{
 "cells": [
  {
   "cell_type": "markdown",
   "id": "43783687",
   "metadata": {},
   "source": [
    "### What You're Aiming For\n",
    "\n",
    "- In this exercise, you will work with a dataset called \"employee info\" that contains information about employees in a company. The dataset includes columns such as Name, Department, Age, Gender, Salary, and Experience.\n",
    "\n",
    "\n",
    "#### Instructions\n",
    "\n",
    "- Create a dataframe called \"employee_df\" with the following data:\n",
    "\n",
    "- import pandas as pd\n",
    "\n",
    "- data = {'Name': ['John', 'Mary', 'Bob', 'Sarah', 'Tom', 'Lisa'], 'Department': ['IT', 'Marketing', 'Sales', 'IT', 'Finance', 'Marketing'], 'Age': [30, 40, 25, 35, 45, 28], 'Gender': ['Male', 'Female', 'Male', 'Female', 'Male', 'Female'], 'Salary': [50000, 60000, 45000, 55000, 70000, 55000], 'Experience': [3, 7, 2, 5, 10, 4]}\n",
    "\n",
    " - employee_df = pd.DataFrame(data)\n",
    "\n",
    " \n",
    "\n",
    "- Use the iloc method to select the first 3 rows of the dataframe.\n",
    "- Use the loc method to select all rows where the Department is \"Marketing\".\n",
    "- Use the iloc method to select the Age and Gender columns for the first 4 rows of the dataframe.\n",
    "- Use the loc method to select the Salary and Experience columns for all rows where the Gender is \"Male\".\n",
    "\n",
    "#### Note:\n",
    "\n",
    "- iloc is used for selection by index location\n",
    "- loc is used for selection by label.\n"
   ]
  },
  {
   "cell_type": "code",
   "execution_count": null,
   "id": "e921b77e",
   "metadata": {},
   "outputs": [],
   "source": [
    "import pandas as pd"
   ]
  },
  {
   "cell_type": "code",
   "execution_count": null,
   "id": "2731f527",
   "metadata": {},
   "outputs": [],
   "source": [
    "employee_df = []\n",
    "\n",
    "data = {'Name': ['John',  'Mary', 'Bob', 'Sarah', 'Tom', 'Lisa'],\n",
    "     'Department': ['IT', 'Marketing', 'Sales', 'IT', 'Finance', 'Marketing'],\n",
    "     'Age': [30, 40, 25, 35, 45, 28],\n",
    "    'Gender': ['Male', 'Female', 'Male', 'Female', 'Male', 'Female'],\n",
    "     'Salary': [50000, 60000, 45000, 55000, 70000, 55000],\n",
    "     'Experience': [3, 7, 2, 5, 10, 4]}"
   ]
  },
  {
   "cell_type": "code",
   "execution_count": null,
   "id": "a3848ebe",
   "metadata": {},
   "outputs": [],
   "source": [
    "employee_df = pd.DataFrame(data)"
   ]
  },
  {
   "cell_type": "code",
   "execution_count": null,
   "id": "eadfe73d",
   "metadata": {},
   "outputs": [],
   "source": [
    "employee_df"
   ]
  },
  {
   "cell_type": "code",
   "execution_count": null,
   "id": "f436c092",
   "metadata": {},
   "outputs": [],
   "source": [
    "#1. Use the iloc method to select the first 3 rows of the dataframe.\n",
    "print(employee_df.iloc[:3])"
   ]
  },
  {
   "cell_type": "code",
   "execution_count": null,
   "id": "ae74dc2b",
   "metadata": {},
   "outputs": [],
   "source": [
    "#2. Use the loc method to select all rows where the Department is \"Marketing\".\n",
    "print(employee_df.loc[employee_df['Department'] == 'Marketing'])"
   ]
  },
  {
   "cell_type": "code",
   "execution_count": null,
   "id": "777fdb3e",
   "metadata": {
    "scrolled": true
   },
   "outputs": [],
   "source": [
    "#3. Use the iloc method to select the Age and Gender columns for the first 4 rows of the dataframe.\n",
    "print(employee_df.iloc[:4][['Age', 'Gender']])"
   ]
  },
  {
   "cell_type": "code",
   "execution_count": null,
   "id": "b540f80d",
   "metadata": {},
   "outputs": [],
   "source": [
    "#4. Use the loc method to select the Salary and Experience columns for all rows where the Gender is \"Male\".\n",
    "print(employee_df.loc[employee_df['Gender'] == 'Male', ['Name', 'Salary', 'Experience']])"
   ]
  }
 ],
 "metadata": {
  "kernelspec": {
   "display_name": "Python 3 (ipykernel)",
   "language": "python",
   "name": "python3"
  },
  "language_info": {
   "codemirror_mode": {
    "name": "ipython",
    "version": 3
   },
   "file_extension": ".py",
   "mimetype": "text/x-python",
   "name": "python",
   "nbconvert_exporter": "python",
   "pygments_lexer": "ipython3",
   "version": "3.11.7"
  }
 },
 "nbformat": 4,
 "nbformat_minor": 5
}
