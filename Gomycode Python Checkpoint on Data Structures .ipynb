{
 "cells": [
  {
   "cell_type": "markdown",
   "id": "9e079ba7",
   "metadata": {},
   "source": [
    "### Create a program that allows the user to manage their shopping list. The user should be able to add items to the list, remove items, and view the current list of items.\n",
    "\n",
    "### Instructions¶\n",
    "\n",
    "#### Statement:\n",
    "- Create a list to store the shopping items\n",
    "\n",
    "- Use a while loop to create a menu of options for the user to add, remove, or view items from the list\n",
    "\n",
    "- Use a for loop to iterate through the list of items and display them to the user\n",
    "\n",
    "- Use the range() function to limit the number of items that can be added to the list\n",
    "\n",
    "- Use the list, tuple, set, and dictionary data structures to store and manipulate the shopping items\n",
    "\n",
    "#### Instructions:\n",
    "- Create a list named 'shopping_list' to store the items.\n",
    "\n",
    "- Use a while loop to create a menu of options for the user to add, remove, or view items from the list.\n",
    "\n",
    "- Use the input() function to prompt the user to make a selection from the menu.\n",
    "\n",
    "- Use an if-elif-else block to determine the user's selection and perform the corresponding action.\n",
    "\n",
    "- If the user selects 'add', use the input() function to prompt the user to enter an item to add to the list. Use the range() function to limit the number of items that can be added to the list.\n",
    "\n",
    "- If the user selects 'remove', use the input() function to prompt the user to enter an item to remove from the list.\n",
    "\n",
    "- If the user selects 'view', use a for loop to iterate through the list of items and display them to the user.\n",
    "\n",
    "- Use the list, tuple, set, and dictionary data structures to store and manipulate the shopping items."
   ]
  },
  {
   "cell_type": "code",
   "execution_count": null,
   "id": "fed08a93",
   "metadata": {},
   "outputs": [],
   "source": [
    "shopping_list = []\n",
    "def shopping():\n",
    "    print(\"What do you want to do today: \\n1. Add to shopping list. \\n2. Remove from shopping list. \\n3. View item in shopping list. \\n4. Exit.\")\n",
    "\n",
    "    while True:\n",
    "        Choice = int(input(\"Choose an option from the above options: \"))\n",
    "        if Choice == 1:\n",
    "            if len(shopping_list) in range(10):\n",
    "                add_to_shopping_list = input(\"What would you like to add to the list: \")\n",
    "                shopping_list.append(add_to_shopping_list)\n",
    "                break\n",
    "            else:\n",
    "                print(\"Shopping list is full\")\n",
    "\n",
    "        elif Choice == 2:\n",
    "            remove_from_list = input(\"What would you like to remove from list: \")\n",
    "            if remove_from_list in shopping_list:\n",
    "                shopping_list.remove(remove_from_list)\n",
    "                print(\"Item has been removed\")\n",
    "            else:\n",
    "                print(\"Item not found\")\n",
    "                break\n",
    "\n",
    "        elif Choice == 3:\n",
    "                print(item)\n",
    "                break\n",
    "\n",
    "        elif Choice == 4:\n",
    "            print(\"Thanks For Coming\")\n",
    "            break\n",
    "\n",
    "        else:\n",
    "            print(\"Invalid, Choose a valid option from 1 and 4\")\n",
    "\n",
    "shopping()"
   ]
  }
 ],
 "metadata": {
  "kernelspec": {
   "display_name": "Python 3 (ipykernel)",
   "language": "python",
   "name": "python3"
  },
  "language_info": {
   "codemirror_mode": {
    "name": "ipython",
    "version": 3
   },
   "file_extension": ".py",
   "mimetype": "text/x-python",
   "name": "python",
   "nbconvert_exporter": "python",
   "pygments_lexer": "ipython3",
   "version": "3.11.7"
  }
 },
 "nbformat": 4,
 "nbformat_minor": 5
}
