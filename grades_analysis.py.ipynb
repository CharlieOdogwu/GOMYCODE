{
 "cells": [
  {
   "cell_type": "markdown",
   "id": "be184c90",
   "metadata": {},
   "source": [
    "## What You're Aiming For\n",
    "\n",
    "#### Create a numpy array called \"grades\" that contains the following grades: [85, 90, 88, 92, 95, 80, 75, 98, 89, 83]\n",
    "\n",
    "\n",
    "##### Instructions\n",
    "\n",
    "- Create a new file called \"grades_analysis.py\"\n",
    "\n",
    "- Import the numpy library and create the \"grades\" array as specified above.\n",
    "\n",
    "- Use numpy functions to calculate the mean, median, and standard deviation of the grades.\n",
    "\n",
    "- Use numpy function to find the maximum and minimum of the grades.\n",
    "\n",
    "- Use numpy function to sort the grades in ascending order.\n",
    "\n",
    "- Use numpy function to find the index of the highest grade in the array.\n",
    "\n",
    "- Use numpy function to count the number of students who scored above 90.\n",
    "\n",
    "- Use numpy function to calculate the percentage of students who scored above 90.\n",
    "\n",
    "- Use numpy function to calculate the percentage of students who scored below 75.\n",
    "\n",
    "- Use numpy function to extract all the grades above 90 and put them in a new array called \"high_performers\".\n",
    "\n",
    "- Create a new array called \"passing_grades\" that contains all the grades above 75.\n",
    "\n",
    "- Print the result of all the above steps."
   ]
  },
  {
   "cell_type": "code",
   "execution_count": null,
   "id": "14804725",
   "metadata": {},
   "outputs": [],
   "source": [
    "#1.Import the numpy library and create the \"grades\" array as specified above.\n",
    "import numpy as np\n",
    "\n",
    "Grades = np.array([85, 90, 88, 92, 95, 80, 75, 98, 89, 83])"
   ]
  },
  {
   "cell_type": "code",
   "execution_count": null,
   "id": "e03aea63",
   "metadata": {},
   "outputs": [],
   "source": [
    "#2.Use numpy functions to calculate the mean, median, and standard deviation of the grades.\n",
    "#Mean\n",
    "Grades_mean = np.mean(Grades)\n",
    "#Median\n",
    "Grades_median = np.median(Grades)\n",
    "#Standard deviation\n",
    "Grades_STD = np.std(Grades)\n",
    "\n",
    "print(f'Mean: {Grades_mean}, Median: {Grades_median}, Standard Deviation: {Grades_STD}')"
   ]
  },
  {
   "cell_type": "code",
   "execution_count": null,
   "id": "c580bd0b",
   "metadata": {},
   "outputs": [],
   "source": [
    "#3.Use numpy function to find the maximum and minimum of the grades.\n",
    "#Maximum\n",
    "Grades_max = np.max(Grades)\n",
    "#Minimum\n",
    "Grades_min = np.min(Grades)\n",
    "\n",
    "print(f'Grades Maximum: {Grades_max}, Grades Minimum: {Grades_min}')"
   ]
  },
  {
   "cell_type": "code",
   "execution_count": null,
   "id": "00904833",
   "metadata": {
    "scrolled": true
   },
   "outputs": [],
   "source": [
    "#4.Use numpy function to sort the grades in ascending order.\n",
    "Grades_order = np.sort(Grades)\n",
    "print('Grades in ascending order:', Grades_order)"
   ]
  },
  {
   "cell_type": "code",
   "execution_count": null,
   "id": "e6ebcb44",
   "metadata": {},
   "outputs": [],
   "source": [
    "#5.Use numpy function to find the index of the highest grade in the array\n",
    "highest_grade_index = np.argmax(Grades)\n",
    "print('Highest Grade:', highest_grade_index)"
   ]
  },
  {
   "cell_type": "code",
   "execution_count": null,
   "id": "c04894c6",
   "metadata": {},
   "outputs": [],
   "source": [
    "#6.Use numpy function to count the number of students who scored above 90.\n",
    "Num_of_students_above_90 = np.sum(Grades > 90)\n",
    "print('Total number of Students above 90:', Num_of_students_above_90)"
   ]
  },
  {
   "cell_type": "code",
   "execution_count": null,
   "id": "ee703d8a",
   "metadata": {},
   "outputs": [],
   "source": [
    "#7.Use numpy function to calculate the percentage of students who scored above 90.\n",
    "percentage_above_90 = np.mean(Grades > 90) * 100\n",
    "print(f'Percentage Number of Student who scored above 90: %{percentage_above_90}')"
   ]
  },
  {
   "cell_type": "code",
   "execution_count": null,
   "id": "a234b342",
   "metadata": {},
   "outputs": [],
   "source": [
    "#8.Use numpy function to calculate the percentage of students who scored below 75.\n",
    "percentage_below_75 = np.mean(Grades < 75) * 100\n",
    "print(f'Percentage Number of Students who scored below 75: %{percentage_below_75}')"
   ]
  },
  {
   "cell_type": "code",
   "execution_count": null,
   "id": "2b79dabe",
   "metadata": {},
   "outputs": [],
   "source": [
    "#9.Use numpy function to extract all the grades above 90 and put them in a new array called \"high_performers\n",
    "high_performers  = Grades[Grades > 90]\n",
    "print('HIgh Performing Students based on there grades above 90: ', high_performers)"
   ]
  },
  {
   "cell_type": "code",
   "execution_count": null,
   "id": "58f0c9a5",
   "metadata": {},
   "outputs": [],
   "source": [
    "#10.Create a new array called \"passing_grades\" that contains all the grades above 75.\n",
    "passing_grades = Grades[Grades > 75]\n",
    "print('Students with pass based on there grades above 75: ', passing_grades)"
   ]
  }
 ],
 "metadata": {
  "kernelspec": {
   "display_name": "Python 3 (ipykernel)",
   "language": "python",
   "name": "python3"
  },
  "language_info": {
   "codemirror_mode": {
    "name": "ipython",
    "version": 3
   },
   "file_extension": ".py",
   "mimetype": "text/x-python",
   "name": "python",
   "nbconvert_exporter": "python",
   "pygments_lexer": "ipython3",
   "version": "3.11.7"
  }
 },
 "nbformat": 4,
 "nbformat_minor": 5
}
