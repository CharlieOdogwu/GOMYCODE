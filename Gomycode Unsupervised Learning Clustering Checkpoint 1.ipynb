{
 "cells": [
  {
   "cell_type": "markdown",
   "id": "df641be1",
   "metadata": {},
   "source": [
    "### What You're Aiming For\n",
    "\n",
    "- In this checkpoint, we are going to work on the 'Credit Card Dataset for Clustering' dataset provided by Kaggle.\n",
    "\n",
    "- Dataset description : This dataset was derived and simplified for learning purposes. It includes usage behaviour of about 9000 active credit card holders during 6 months period. This case requires to develop a customer segmentation to define marketing strategy.\n",
    "\n",
    "### Columns explanation : \n",
    "\n",
    "- CUST_ID: Identification of Credit Card holder (Categorical)\n",
    "- BALANCE_FREQUENCY: How frequently the Balance is updated, score between 0 and 1 (1 = frequently updated, 0 = not frequently updated)\n",
    "- PURCHASES: Amount of purchases made from account \n",
    "- CASH_ADVANCE: Cash in advance given by the user\n",
    "- CREDIT_LIMIT: Limit of Credit Card for user \n",
    "- PAYMENTS: Amount of Payment done by user \n",
    "\n",
    "#### Instructions\n",
    "\n",
    "- Import you data and perform basic data exploration phase\n",
    "- Perform the necessary data preparation steps ( Corrupted and missing values handling, data encoding, outliers handling ... )\n",
    "- Perform hierarchical clustering to identify the inherent groupings within your data. Then, plot the clusters. (use only 2 features. For example, try to cluster the customer base with respect to 'PURCHASES' and 'credit limit')\n",
    "- Perform partitional clustering using the K-means algorithm. Then, plot the clusters\n",
    "- Find the best k value and plot the clusters again.\n",
    "- Interpret the results"
   ]
  },
  {
   "cell_type": "code",
   "execution_count": null,
   "id": "05011628-e8dc-430e-afad-654b9dabb917",
   "metadata": {},
   "outputs": [],
   "source": [
    "import warnings\n",
    "warnings.simplefilter(\"ignore\")"
   ]
  },
  {
   "cell_type": "code",
   "execution_count": null,
   "id": "a6e80ea0-fe27-42b7-8269-51ccc90b3c65",
   "metadata": {},
   "outputs": [],
   "source": [
    "import numpy as np\n",
    "import pandas as pd\n",
    "import matplotlib.pyplot as plt\n",
    "import seaborn as sns\n",
    "from sklearn.cluster import KMeans\n"
   ]
  },
  {
   "cell_type": "code",
   "execution_count": null,
   "id": "93db6d25-4da9-4f8f-93e1-11376329d264",
   "metadata": {},
   "outputs": [],
   "source": [
    "#load the Data \n",
    "data = pd.read_csv('Credit_card_dataset.csv')"
   ]
  },
  {
   "cell_type": "code",
   "execution_count": null,
   "id": "0826dfa0-4770-4aef-af63-a9487527fc10",
   "metadata": {},
   "outputs": [],
   "source": [
    "data.head()"
   ]
  },
  {
   "cell_type": "code",
   "execution_count": null,
   "id": "33c5e0ea-764d-4774-abe3-0adedecf59dd",
   "metadata": {},
   "outputs": [],
   "source": [
    "data.describe()"
   ]
  },
  {
   "cell_type": "code",
   "execution_count": null,
   "id": "6cf43ce1-1494-4108-95cf-e18f15b21ed8",
   "metadata": {},
   "outputs": [],
   "source": [
    "data.info()"
   ]
  },
  {
   "cell_type": "code",
   "execution_count": null,
   "id": "6870817e-251f-4e98-890f-2bd7d768e795",
   "metadata": {},
   "outputs": [],
   "source": [
    "data.isna().mean()*100"
   ]
  },
  {
   "cell_type": "code",
   "execution_count": null,
   "id": "922fbb06-cc35-4a2c-b88a-08d509a34ed4",
   "metadata": {},
   "outputs": [],
   "source": [
    "data.columns"
   ]
  },
  {
   "cell_type": "code",
   "execution_count": null,
   "id": "60d8963a-0d12-4b88-8c34-e90ca858d31c",
   "metadata": {},
   "outputs": [],
   "source": [
    "data.dropna(subset=['CREDIT_LIMIT'], inplace=True)"
   ]
  },
  {
   "cell_type": "code",
   "execution_count": null,
   "id": "d1d4de29-ed51-48b4-87da-cabf87811419",
   "metadata": {},
   "outputs": [],
   "source": [
    "data['CASH_ADVANCE'].fillna(data['CASH_ADVANCE'].median(), inplace=True)"
   ]
  },
  {
   "cell_type": "code",
   "execution_count": null,
   "id": "c8aff4f1-6dd9-49e5-93c4-b311231e31a4",
   "metadata": {},
   "outputs": [],
   "source": [
    "# Drop columns that are not to be used\n",
    "data.drop(['CUST_ID'], axis=1, inplace=True)\n",
    "data.drop('BALANCE_FREQUENCY', axis=1, inplace=True)\n",
    "data.drop('PAYMENTS', axis=1, inplace=True)\n",
    "data.drop('CASH_ADVANCE', axis=1, inplace=True)"
   ]
  },
  {
   "cell_type": "code",
   "execution_count": null,
   "id": "cfab2c62-a5b5-40ef-96e1-59909786f989",
   "metadata": {},
   "outputs": [],
   "source": [
    "#remove outliers\n",
    "from scipy import stats\n",
    "data = data[(np.abs(stats.zscore(data['PURCHASES'])) < 3)]\n",
    "data = data[(np.abs(stats.zscore(data['CREDIT_LIMIT'])) < 3)]"
   ]
  },
  {
   "cell_type": "code",
   "execution_count": null,
   "id": "b61b788e-6a7e-472c-a865-3e0c8d96fa38",
   "metadata": {},
   "outputs": [],
   "source": [
    "from scipy.cluster.hierarchy import dendrogram, linkage\n",
    "from sklearn.preprocessing import StandardScaler\n",
    "\n",
    "# Select the features for clustering\n",
    "X = data[['PURCHASES', 'CREDIT_LIMIT']]\n",
    "\n",
    "# Scale the features\n",
    "scaler = StandardScaler()\n",
    "X_scaled = scaler.fit_transform(X)\n",
    "\n",
    "# Perform hierarchical clustering\n",
    "linked = linkage(X_scaled, method='ward')\n",
    "\n",
    "# Plot the dendrogram\n",
    "plt.figure(figsize=(10, 7))\n",
    "dendrogram(linked)\n",
    "plt.title('Hierarchical Clustering Dendrogram')\n",
    "plt.show()\n"
   ]
  },
  {
   "cell_type": "markdown",
   "id": "e9674f72",
   "metadata": {},
   "source": [
    "## Model Training"
   ]
  },
  {
   "cell_type": "code",
   "execution_count": null,
   "id": "605e59d1-5f25-4a16-8ae3-c7130b201ce2",
   "metadata": {},
   "outputs": [],
   "source": [
    "from sklearn.decomposition import PCA\n",
    "from sklearn.cluster import KMeans\n",
    "import matplotlib.pyplot as plt\n",
    "\n",
    "# Assuming X is your feature matrix\n",
    "pca = PCA(n_components=2)  # You can change the number of components based on your use case\n",
    "X_red = pca.fit_transform(X_scaled)\n",
    "\n",
    "# Now apply KMeans clustering on the reduced dataset\n",
    "kmeans_models = [KMeans(n_clusters=k, random_state=23).fit(X_red) for k in range(1, 11)]\n",
    "inertia = [model.inertia_ for model in kmeans_models]\n",
    "\n",
    "\n",
    "from sklearn.cluster import KMeans\n",
    "\n",
    "kmeans_models = [KMeans(n_clusters=k, random_state=23).fit(X_red) for k in range (1, 11)]\n",
    "innertia = [model.inertia_ for model in kmeans_models]\n",
    "\n",
    "# Plotting the elbow method graph\n",
    "plt.plot(range(1, 11), innertia, marker='o')\n",
    "plt.title('Elbow method')\n",
    "plt.xlabel('Number of Clusters')\n",
    "plt.ylabel('WCSS (Within-Cluster Sum of Squares)')\n",
    "plt.xticks(range(1, 11))  # Optional: sets x-ticks to integers\n",
    "plt.grid()\n",
    "plt.show()"
   ]
  },
  {
   "cell_type": "code",
   "execution_count": null,
   "id": "1680a1a8",
   "metadata": {},
   "outputs": [],
   "source": [
    "innertia"
   ]
  },
  {
   "cell_type": "code",
   "execution_count": null,
   "id": "9d5cfd04-1703-4e60-a057-4351f682f2a0",
   "metadata": {},
   "outputs": [],
   "source": [
    "model_3 = KMeans(n_clusters=3, random_state=23).fit(X_red)\n",
    "model_3.inertia_"
   ]
  },
  {
   "cell_type": "code",
   "execution_count": null,
   "id": "a93d97b2-3b45-48bf-9d72-9d1184297e6b",
   "metadata": {},
   "outputs": [],
   "source": [
    "model_4 = KMeans(n_clusters=4, random_state=23).fit(X_red)\n",
    "model_4.inertia_"
   ]
  },
  {
   "cell_type": "code",
   "execution_count": null,
   "id": "6b0c3008-0620-4cd4-8b40-930207dc85be",
   "metadata": {},
   "outputs": [],
   "source": [
    "model_5 = KMeans(n_clusters=5, random_state=23).fit(X_red)\n",
    "model_5.inertia_"
   ]
  },
  {
   "cell_type": "code",
   "execution_count": null,
   "id": "fcde5912-4e15-4a2b-acc2-e04633ddacab",
   "metadata": {},
   "outputs": [],
   "source": [
    "model_6 = KMeans(n_clusters=6, random_state=23).fit(X_red)\n",
    "model_6.inertia_"
   ]
  },
  {
   "cell_type": "code",
   "execution_count": null,
   "id": "b3914f93-e918-48a1-9a0a-5d06ace46507",
   "metadata": {},
   "outputs": [],
   "source": [
    "from sklearn.metrics import silhouette_score\n",
    "\n",
    "silhoutte_scores = [silhouette_score(X_red, model.labels_) for model in kmeans_models[1:4]]\n",
    "plt.plot(range(2,5), silhoutte_scores, \"bo-\")\n",
    "plt.xticks([2, 3, 4])\n",
    "plt.title('Silhoutte scores vs Number of clusters')\n",
    "plt.xlabel('Number of clusters')\n",
    "plt.ylabel('Silhoutte score')\n",
    "plt.show()\n",
    "\n",
    "#select 2 as our number of clusters."
   ]
  },
  {
   "cell_type": "code",
   "execution_count": null,
   "id": "e26c228d-d2b9-45fd-b5c4-d5af3a197f3d",
   "metadata": {},
   "outputs": [],
   "source": [
    "from sklearn.metrics import silhouette_score\n",
    "\n",
    "kmeans = KMeans(n_clusters=6, random_state=23)\n",
    "kmeans.fit(X_red)\n",
    "\n",
    "print('Silhoutte score of our model is ' + str(silhouette_score(X_red, kmeans.labels_)))"
   ]
  },
  {
   "cell_type": "code",
   "execution_count": null,
   "id": "3145cb62-0e91-47cf-9cb8-50a61f515c9b",
   "metadata": {},
   "outputs": [],
   "source": [
    "#Assigning labels as cluster index to our dataset.\n",
    "\n",
    "data['cluster_id'] = kmeans.labels_\n",
    "\n",
    "plt.figure(figsize=(10,6))\n",
    "sns.scatterplot(x=data['CREDIT_LIMIT'], y=data['PURCHASES'], hue=data['cluster_id'], palette= 'Set1')\n",
    "plt.title('Customer Segmentation To Define Marketing Strategy With Purchases And Credit Limits')\n",
    "plt.show()"
   ]
  }
 ],
 "metadata": {
  "kernelspec": {
   "display_name": "Python 3 (ipykernel)",
   "language": "python",
   "name": "python3"
  },
  "language_info": {
   "codemirror_mode": {
    "name": "ipython",
    "version": 3
   },
   "file_extension": ".py",
   "mimetype": "text/x-python",
   "name": "python",
   "nbconvert_exporter": "python",
   "pygments_lexer": "ipython3",
   "version": "3.11.7"
  }
 },
 "nbformat": 4,
 "nbformat_minor": 5
}
