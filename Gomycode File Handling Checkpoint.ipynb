{
 "cells": [
  {
   "cell_type": "markdown",
   "id": "a0e2b546",
   "metadata": {},
   "source": [
    "### What You're Aiming For\n",
    "\n",
    "- This dataset contains loan information, including loan ID, customer gender, location, region, total price for each loan etc.\n",
    "\n",
    "\n",
    "#### Instructions\n",
    "\n",
    " \n",
    "- Begin by importing the necessary libraries, numpy.\n",
    "\n",
    "- Use the open() function to open csv file and assign the result to a variable.\n",
    "\n",
    "- Use the numpy array to perform some basic statistical analysis on the data, such as finding the mean, median, and standard deviation of the loan amounts.\n",
    "\n",
    "##### Note:\n",
    "\n",
    "- Be sure to close the file after you have finished reading it in with the open() function.\n",
    "\n",
    "- Use the delimiter parameter in the genfromtxt() function to specify that the values in the file are separated by commas.\n",
    "\n",
    "- You can use the numpy functions mean(), median(), and std() to find the mean, median, and standard deviation of the loan amounts."
   ]
  },
  {
   "cell_type": "code",
   "execution_count": 2,
   "id": "0cebf06b",
   "metadata": {},
   "outputs": [],
   "source": [
    "#Begin by importing the necessary libraries, numpy\n",
    "import numpy as np\n",
    "import pandas as pd"
   ]
  },
  {
   "cell_type": "code",
   "execution_count": 3,
   "id": "f4ffa583",
   "metadata": {},
   "outputs": [],
   "source": [
    "#Use the open() function to open csv file and assign the result to a variable.\n",
    "filename = 'loan_prediction_dataset.csv'\n",
    "file = open(filename, 'r')\n"
   ]
  },
  {
   "cell_type": "code",
   "execution_count": 4,
   "id": "115c1ee0",
   "metadata": {},
   "outputs": [],
   "source": [
    "data = np.genfromtxt(file, delimiter=',', names = True)\n"
   ]
  },
  {
   "cell_type": "code",
   "execution_count": 13,
   "id": "3a7390b6",
   "metadata": {},
   "outputs": [],
   "source": [
    "file.close()"
   ]
  },
  {
   "cell_type": "code",
   "execution_count": 14,
   "id": "5e288517",
   "metadata": {},
   "outputs": [
    {
     "name": "stdout",
     "output_type": "stream",
     "text": [
      "Mean Loan Amount: 8.0\n",
      "Median Loan Amount: 8.0\n",
      "Standard Deviation of Loan Amount: 0.0\n"
     ]
    }
   ],
   "source": [
    "#You can use the numpy functions mean(), median(), and std() to find the mean, median, and standard deviation of the loan amounts.\n",
    "mean_loan = np.nanmean([8])\n",
    "median_loan = np.median([8])\n",
    "std_dev_loan = np.std([8])\n",
    "\n",
    "\n",
    "print(\"Mean Loan Amount:\", mean_loan)\n",
    "print(\"Median Loan Amount:\", median_loan)\n",
    "print(\"Standard Deviation of Loan Amount:\", std_dev_loan)"
   ]
  }
 ],
 "metadata": {
  "kernelspec": {
   "display_name": "Python 3 (ipykernel)",
   "language": "python",
   "name": "python3"
  },
  "language_info": {
   "codemirror_mode": {
    "name": "ipython",
    "version": 3
   },
   "file_extension": ".py",
   "mimetype": "text/x-python",
   "name": "python",
   "nbconvert_exporter": "python",
   "pygments_lexer": "ipython3",
   "version": "3.11.7"
  }
 },
 "nbformat": 4,
 "nbformat_minor": 5
}
