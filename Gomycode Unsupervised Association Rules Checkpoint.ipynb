{
 "cells": [
  {
   "cell_type": "markdown",
   "id": "7213525e",
   "metadata": {},
   "source": [
    "### What You're Aiming For\n",
    "\n",
    "- In this checkpoint, we are going to work on 'Customer purchases history' dataset provided by Kaggle\n",
    "\n",
    "- Dataset description: This dataset contains historical records for customer purchases from a supermarket X. The objective is to find the association rules to help supermarket owners find new marketing plans to improve their sales.\n",
    "\n",
    "#### Instructions\n",
    "\n",
    "- toy_dataset = [['Skirt', 'Sneakers', 'Scarf', 'Pants', 'Hat'],\n",
    "\n",
    "        ['Sunglasses', 'Skirt', 'Sneakers', 'Pants', 'Hat'],\n",
    "\n",
    "        ['Dress', 'Sandals', 'Scarf', 'Pants', 'Heels'],\n",
    "\n",
    "        ['Dress', 'Necklace', 'Earrings', 'Scarf', 'Hat', 'Heels', 'Hat'],\n",
    "\n",
    "      ['Earrings', 'Skirt', 'Skirt', 'Scarf', 'Shirt', 'Pants']]\n",
    "\n",
    "- Run the apriori algorithm on the provided toy_dataset. Interpret the results.\n",
    "- Try to explore the checkpoint dataset using Pandas and Plotly.\n",
    "- Run the apriori algorithm on checkpoint dataset. Interpret the results and suggest a clear business plan to the supermarket owners based on your findings."
   ]
  },
  {
   "cell_type": "markdown",
   "id": "46853c54",
   "metadata": {},
   "source": [
    "### A. Using the transaction sample dataset to run an Apriori Algorithm\n",
    "- toy_dataset = [['Skirt', 'Sneakers', 'Scarf', 'Pants', 'Hat'],\n",
    "\n",
    "  ['Sunglasses', 'Skirt', 'Sneakers', 'Pants', 'Hat'],\n",
    "\n",
    "  ['Dress', 'Sandals', 'Scarf', 'Pants', 'Heels'],\n",
    "\n",
    "  ['Dress', 'Necklace', 'Earrings', 'Scarf', 'Hat', 'Heels', 'Hat'],\n",
    "\n",
    "['Earrings', 'Skirt', 'Skirt', 'Scarf', 'Shirt', 'Pants']]\n"
   ]
  },
  {
   "cell_type": "code",
   "execution_count": null,
   "id": "97b0b2ba",
   "metadata": {},
   "outputs": [],
   "source": [
    "# Import necessary libraries\n",
    "import pandas as pd\n",
    "from mlxtend.frequent_patterns import apriori, association_rules"
   ]
  },
  {
   "cell_type": "code",
   "execution_count": null,
   "id": "bd0708b1",
   "metadata": {},
   "outputs": [],
   "source": [
    "toy_dataset =[['Skirt', 'Sneakers', 'Scarf', 'Pants', 'Hat'],\n",
    "\n",
    "  ['Sunglasses', 'Skirt', 'Sneakers', 'Pants', 'Hat'],\n",
    "\n",
    "  ['Dress', 'Sandals', 'Scarf', 'Pants', 'Heels'],\n",
    "\n",
    "  ['Dress', 'Necklace', 'Earrings', 'Scarf', 'Hat', 'Heels', 'Hat'],\n",
    "\n",
    "['Earrings', 'Skirt', 'Skirt', 'Scarf', 'Shirt', 'Pants']]\n",
    "\n",
    "data = pd.DataFrame(toy_dataset)\n",
    "data"
   ]
  },
  {
   "cell_type": "markdown",
   "id": "4b78ee71",
   "metadata": {},
   "source": [
    "### Step 1: Data Preprocessing\n",
    "We need to transform the dataset into a one-hot encoded format (True/False for each item)"
   ]
  },
  {
   "cell_type": "code",
   "execution_count": null,
   "id": "a74c91cc",
   "metadata": {},
   "outputs": [],
   "source": [
    "# Use TransactionEncoder to convert the list of transactions into a one-hot encoded DataFrame\n",
    "from mlxtend.preprocessing import TransactionEncoder\n",
    "te = TransactionEncoder()\n",
    "te_data = te.fit(toy_dataset).transform(toy_dataset)\n",
    "\n",
    "data = pd.DataFrame(te_data)\n",
    "data\n",
    "# Display the output\n",
    "te_data"
   ]
  },
  {
   "cell_type": "code",
   "execution_count": null,
   "id": "b41eaab8",
   "metadata": {},
   "outputs": [],
   "source": [
    "# Convert to DataFrame\n",
    "onehot_df = pd.DataFrame(te_data, columns=te.columns_)\n",
    "\n",
    "onehot_df"
   ]
  },
  {
   "cell_type": "markdown",
   "id": "d70a3a87",
   "metadata": {},
   "source": [
    "### Step 2: Find Frequent Itemsets using Apriori Algorithm\n",
    "Now, we apply the Apriori algorithm to find frequent itemsets."
   ]
  },
  {
   "cell_type": "code",
   "execution_count": null,
   "id": "84a90135",
   "metadata": {},
   "outputs": [],
   "source": [
    "# We'll set a `min_support` value to control the threshold of how frequent an itemset must be to be considered.\n",
    "\n",
    "frequent_itemsets = apriori(onehot_df, min_support=0.3, use_colnames=True)\n",
    "# 'min_support=0.2' means that we are only interested in itemsets that appear in at least 20% of the transactions.\n",
    "\n",
    "frequent_itemsets"
   ]
  },
  {
   "cell_type": "markdown",
   "id": "8e64d18c",
   "metadata": {},
   "source": [
    "### Step 3: Generate Association Rules\n",
    "Once we have the frequent itemsets, we can generate **association rules**. We'll calculate the confidence and lift for each rule."
   ]
  },
  {
   "cell_type": "code",
   "execution_count": null,
   "id": "b55c25a0",
   "metadata": {},
   "outputs": [],
   "source": [
    "# Generate Association Rules\n",
    "rules = association_rules(frequent_itemsets, metric=\"lift\", min_threshold=1)\n",
    "# We use 'lift' as the metric to determine how much more likely two items are to be purchased together compared to random chance.\n",
    "# We use 'min_threshold' to filter the rules to only include those with a lift greater than 1.\n",
    "\n",
    "rules"
   ]
  },
  {
   "cell_type": "markdown",
   "id": "54c46bac",
   "metadata": {},
   "source": [
    "### Step 4: Filter and Sort Rules"
   ]
  },
  {
   "cell_type": "code",
   "execution_count": null,
   "id": "14d97a68",
   "metadata": {},
   "outputs": [],
   "source": [
    "# We can filter the rules to focus on those with high confidence or lift values.\n",
    "strong_rules = rules[(rules['lift'] > 1.2) & (rules['confidence'] > 0.5)]\n",
    "\n",
    "# Sort the rules by lift, in descending order\n",
    "strong_rules = strong_rules.sort_values(by='confidence', ascending=False)\n",
    "\n",
    "# Display the filtered rules\n",
    "strong_rules"
   ]
  },
  {
   "cell_type": "markdown",
   "id": "6447c51e",
   "metadata": {},
   "source": [
    "### Step 5: Visualizing Results"
   ]
  },
  {
   "cell_type": "code",
   "execution_count": null,
   "id": "f2449e3e",
   "metadata": {
    "scrolled": true
   },
   "outputs": [],
   "source": [
    "import matplotlib.pyplot as plt\n",
    "import seaborn as sns\n",
    "\n",
    "# Visualize the top 10 rules based on lift\n",
    "plt.figure(figsize=(10, 6))\n",
    "sns.barplot(x=strong_rules['lift'].head(10), y=strong_rules['antecedents'].head(10).astype(str))\n",
    "plt.title('Top 10 Association Rules by Lift')\n",
    "plt.xlabel('Lift')\n",
    "plt.ylabel('Itemset')\n",
    "plt.show()"
   ]
  },
  {
   "cell_type": "markdown",
   "id": "f7b05d89",
   "metadata": {},
   "source": [
    "### B. Using the below csv file to run an Apriori Algrorithm\n",
    "- Market_Basket_Optimisation.csv"
   ]
  },
  {
   "cell_type": "code",
   "execution_count": null,
   "id": "bf32fc11",
   "metadata": {},
   "outputs": [],
   "source": [
    "# Import necessary libraries\n",
    "import pandas as pd\n",
    "from mlxtend.frequent_patterns import apriori, association_rules"
   ]
  },
  {
   "cell_type": "code",
   "execution_count": null,
   "id": "533f0ce3",
   "metadata": {},
   "outputs": [],
   "source": [
    "data = pd.read_csv(\"Market_Basket_Optimisation.csv\")\n",
    "data"
   ]
  },
  {
   "cell_type": "code",
   "execution_count": null,
   "id": "b880adab",
   "metadata": {},
   "outputs": [],
   "source": [
    "data.info()"
   ]
  },
  {
   "cell_type": "code",
   "execution_count": null,
   "id": "cc4c9950",
   "metadata": {},
   "outputs": [],
   "source": [
    "data.isnull().sum()"
   ]
  },
  {
   "cell_type": "code",
   "execution_count": null,
   "id": "a86f3c63",
   "metadata": {},
   "outputs": [],
   "source": [
    "data.describe(include= \"all\")"
   ]
  },
  {
   "cell_type": "code",
   "execution_count": null,
   "id": "09703e35",
   "metadata": {},
   "outputs": [],
   "source": [
    "all_products = data.stack().reset_index(drop=True)\n"
   ]
  },
  {
   "cell_type": "code",
   "execution_count": null,
   "id": "41f5bb9b",
   "metadata": {},
   "outputs": [],
   "source": [
    "all_products = all_products.dropna()\n",
    "all_products"
   ]
  },
  {
   "cell_type": "code",
   "execution_count": null,
   "id": "6b2c0169",
   "metadata": {},
   "outputs": [],
   "source": [
    "# Step 1: Convert each row into a list of items, ignoring NaN values\n",
    "transactions = data.apply(lambda row: row.dropna().tolist(), axis=1).tolist()\n",
    "transactions"
   ]
  },
  {
   "cell_type": "code",
   "execution_count": null,
   "id": "d65ffde0",
   "metadata": {},
   "outputs": [],
   "source": [
    "\n",
    "# Step 2: Apply TransactionEncoder and transform the transactions into a one-hot encoded DataFrame\n",
    "from mlxtend.preprocessing import TransactionEncoder\n",
    "from mlxtend.frequent_patterns import apriori, association_rules\n",
    "\n",
    "te = TransactionEncoder()\n",
    "te_ary = te.fit(transactions).transform(transactions)\n",
    "df = pd.DataFrame(te_ary, columns=te.columns_)\n",
    "\n",
    "# Step 3: Apply the Apriori algorithm\n",
    "# Use a minimum support of 5% (0.05)\n",
    "frequent_itemsets = apriori(df, min_support=0.05, use_colnames=True)\n",
    "\n",
    "# Step 4: Generate association rules\n",
    "rules = association_rules(frequent_itemsets, metric=\"lift\", min_threshold=1)\n",
    "\n",
    "# Step 5: Display the results\n",
    "frequent_itemsets\n",
    "rules"
   ]
  },
  {
   "cell_type": "markdown",
   "id": "bbd7e318",
   "metadata": {},
   "source": [
    "### Interpretation of Results Frequent Itemsets:\n",
    "\n",
    "Top Products: The analysis reveals that products like burgers, cake, chicken, chocolate, cookies, and eggs have the highest support values. This indicates that these items are frequently purchased by customers. Mineral Water: Mineral water appears to be a staple item, as it has the highest support (23.83%) and is often purchased alongside various other products. Association Rules:\n",
    "\n",
    "Chocolate and Mineral Water: The association between chocolate and mineral water is strong, with a lift of 1.35, suggesting that customers who buy chocolate are likely to purchase mineral water as well. Eggs and Mineral Water: Eggs also have a significant association with mineral water, which could indicate that customers prefer to buy these items together. Spaghetti and Mineral Water: There is a similar trend with spaghetti, which indicates that meal-related items are often bought with mineral water. Customer Preferences:\n",
    "\n",
    "There is a clear indication that products with higher purchase frequency (like eggs, chocolate, and mineral water) drive customer choices and can be leveraged in marketing strategies. Business Plan Suggestions Product Placement Strategy:\n",
    "\n",
    "Cross-Merchandising: Position chocolate, eggs, and spaghetti near mineral water displays. Use attractive signage that suggests pairing these items, promoting convenience for customers who often buy them together. End-Cap Displays: Create themed displays at the ends of aisles featuring popular item combinations, like chocolate and mineral water, to draw attention and boost impulse buying. Promotions and Discounts:\n",
    "\n",
    "Bundle Offers: Develop promotional bundles that combine frequently purchased items (e.g., eggs, mineral water, and chocolate).\n",
    "Offering a discount for purchasing these items together can encourage larger basket sizes. Loyalty Program: Implement a loyalty program that rewards customers for purchasing frequently bought items. For instance, buying chocolate and mineral water together could earn points for discounts on future purchases. Product Assortment:\n",
    "\n",
    "Expand Product Range: Based on the data, consider expanding the variety of products in high-support categories like snacks (cookies, chocolate) and beverages (mineral water) to cater to diverse customer preferences. Healthier Alternatives: Introduce healthy options or organic alternatives for popular items like chocolate and snacks to cater to health-conscious consumers, aligning with current trends. Marketing Campaigns:\n",
    "\n",
    "Targeted Marketing: Utilize data insights to create targeted marketing campaigns that emphasize the benefits of pairing products (e.g., healthy meals with mineral water). Seasonal Promotions: Align promotions with seasonal trends, focusing on high-demand items (like chocolate during holidays) to maximize sales during peak times. In-Store Events:\n",
    "\n",
    "Sampling Events: Host tasting events or cooking demonstrations featuring recipes that incorporate popular items like eggs, spaghetti, and chocolate, promoting their usage together. Customer Engagement: Create engaging content on social media that highlights meal ideas or snack pairings, directing customers to in-store displays for those products. Feedback Mechanism:\n",
    "\n",
    "Customer Surveys: Implement regular customer feedback surveys to refine product offerings and discover new customer preferences or shopping habits, ensuring that inventory aligns with demand."
   ]
  },
  {
   "cell_type": "code",
   "execution_count": null,
   "id": "d4673eaf",
   "metadata": {},
   "outputs": [],
   "source": []
  }
 ],
 "metadata": {
  "kernelspec": {
   "display_name": "Python 3 (ipykernel)",
   "language": "python",
   "name": "python3"
  },
  "language_info": {
   "codemirror_mode": {
    "name": "ipython",
    "version": 3
   },
   "file_extension": ".py",
   "mimetype": "text/x-python",
   "name": "python",
   "nbconvert_exporter": "python",
   "pygments_lexer": "ipython3",
   "version": "3.11.7"
  }
 },
 "nbformat": 4,
 "nbformat_minor": 5
}
