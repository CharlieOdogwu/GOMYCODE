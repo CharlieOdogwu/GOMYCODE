{
 "cells": [
  {
   "cell_type": "code",
   "execution_count": 1,
   "metadata": {},
   "outputs": [
    {
     "ename": "FileNotFoundError",
     "evalue": "[Errno 2] No such file or directory: 'C:/Users/HARDEY/Downloads/Harrypotter.txt'",
     "output_type": "error",
     "traceback": [
      "\u001b[1;31m---------------------------------------------------------------------------\u001b[0m",
      "\u001b[1;31mFileNotFoundError\u001b[0m                         Traceback (most recent call last)",
      "Cell \u001b[1;32mIn[1], line 4\u001b[0m\n\u001b[0;32m      1\u001b[0m \u001b[38;5;66;03m# Assume you want to create a chatbot based on the text of a book (e.g., \"Alice in Wonderland\").\u001b[39;00m\n\u001b[0;32m      2\u001b[0m \n\u001b[0;32m      3\u001b[0m \u001b[38;5;66;03m# Load text file\u001b[39;00m\n\u001b[1;32m----> 4\u001b[0m \u001b[38;5;28;01mwith\u001b[39;00m \u001b[38;5;28mopen\u001b[39m(\u001b[38;5;124m'\u001b[39m\u001b[38;5;124mC:/Users/HARDEY/Downloads/Harrypotter.txt\u001b[39m\u001b[38;5;124m'\u001b[39m, \u001b[38;5;124m'\u001b[39m\u001b[38;5;124mr\u001b[39m\u001b[38;5;124m'\u001b[39m, encoding\u001b[38;5;241m=\u001b[39m\u001b[38;5;124m'\u001b[39m\u001b[38;5;124mutf-8\u001b[39m\u001b[38;5;124m'\u001b[39m) \u001b[38;5;28;01mas\u001b[39;00m f:\n\u001b[0;32m      5\u001b[0m     text \u001b[38;5;241m=\u001b[39m f\u001b[38;5;241m.\u001b[39mread()\u001b[38;5;241m.\u001b[39mreplace(\u001b[38;5;124m'\u001b[39m\u001b[38;5;130;01m\\n\u001b[39;00m\u001b[38;5;124m'\u001b[39m, \u001b[38;5;124m'\u001b[39m\u001b[38;5;124m \u001b[39m\u001b[38;5;124m'\u001b[39m)\n",
      "File \u001b[1;32m~\\anaconda3\\Lib\\site-packages\\IPython\\core\\interactiveshell.py:310\u001b[0m, in \u001b[0;36m_modified_open\u001b[1;34m(file, *args, **kwargs)\u001b[0m\n\u001b[0;32m    303\u001b[0m \u001b[38;5;28;01mif\u001b[39;00m file \u001b[38;5;129;01min\u001b[39;00m {\u001b[38;5;241m0\u001b[39m, \u001b[38;5;241m1\u001b[39m, \u001b[38;5;241m2\u001b[39m}:\n\u001b[0;32m    304\u001b[0m     \u001b[38;5;28;01mraise\u001b[39;00m \u001b[38;5;167;01mValueError\u001b[39;00m(\n\u001b[0;32m    305\u001b[0m         \u001b[38;5;124mf\u001b[39m\u001b[38;5;124m\"\u001b[39m\u001b[38;5;124mIPython won\u001b[39m\u001b[38;5;124m'\u001b[39m\u001b[38;5;124mt let you open fd=\u001b[39m\u001b[38;5;132;01m{\u001b[39;00mfile\u001b[38;5;132;01m}\u001b[39;00m\u001b[38;5;124m by default \u001b[39m\u001b[38;5;124m\"\u001b[39m\n\u001b[0;32m    306\u001b[0m         \u001b[38;5;124m\"\u001b[39m\u001b[38;5;124mas it is likely to crash IPython. If you know what you are doing, \u001b[39m\u001b[38;5;124m\"\u001b[39m\n\u001b[0;32m    307\u001b[0m         \u001b[38;5;124m\"\u001b[39m\u001b[38;5;124myou can use builtins\u001b[39m\u001b[38;5;124m'\u001b[39m\u001b[38;5;124m open.\u001b[39m\u001b[38;5;124m\"\u001b[39m\n\u001b[0;32m    308\u001b[0m     )\n\u001b[1;32m--> 310\u001b[0m \u001b[38;5;28;01mreturn\u001b[39;00m io_open(file, \u001b[38;5;241m*\u001b[39margs, \u001b[38;5;241m*\u001b[39m\u001b[38;5;241m*\u001b[39mkwargs)\n",
      "\u001b[1;31mFileNotFoundError\u001b[0m: [Errno 2] No such file or directory: 'C:/Users/HARDEY/Downloads/Harrypotter.txt'"
     ]
    }
   ],
   "source": [
    "# Assume you want to create a chatbot based on the text of a book (e.g., \"Alice in Wonderland\").\n",
    "\n",
    "# Load text file\n",
    "with open('C:/Users/HARDEY/Downloads/Harrypotter.txt', 'r', encoding='utf-8') as f:\n",
    "    text = f.read().replace('\\n', ' ')"
   ]
  },
  {
   "cell_type": "code",
   "execution_count": 4,
   "metadata": {},
   "outputs": [],
   "source": [
    "# Preprocessing involves tokenizing, removing stopwords, and lemmatizing (reducing words to their base form).\n",
    "import nltk\n",
    "from nltk.tokenize import word_tokenize\n",
    "from nltk.corpus import stopwords\n",
    "from nltk.stem import WordNetLemmatizer\n",
    "import string\n",
    "\n",
    "# Initialize stopwords and lemmatizer\n",
    "stop_words = set(stopwords.words('english'))\n",
    "lemmatizer = WordNetLemmatizer()\n",
    "\n",
    "# Preprocess each sentence\n",
    "def preprocess(sentence):\n",
    "    tokens = word_tokenize(sentence.lower())\n",
    "    tokens = [word for word in tokens if word not in stop_words and word not in string.punctuation]\n",
    "    return [lemmatizer.lemmatize(token) for token in tokens]\n",
    "\n",
    "# Tokenize text into sentences\n",
    "sentences = nltk.sent_tokenize(text)\n",
    "corpus = [preprocess(sentence) for sentence in sentences]"
   ]
  },
  {
   "cell_type": "code",
   "execution_count": 5,
   "metadata": {},
   "outputs": [],
   "source": [
    "def jaccard_similarity(query, sentence):\n",
    "    query_set = set(preprocess(query))\n",
    "    sentence_set = set(sentence)\n",
    "    return len(query_set.intersection(sentence_set)) / len(query_set.union(sentence_set))\n",
    "\n",
    "def get_response(query):\n",
    "    max_similarity = 0\n",
    "    best_response = \"\"\n",
    "    for sentence in corpus:\n",
    "        similarity = jaccard_similarity(query, sentence)\n",
    "        if similarity > max_similarity:\n",
    "            max_similarity = similarity\n",
    "            best_response = \" \".join(sentence)\n",
    "    return best_response"
   ]
  },
  {
   "cell_type": "code",
   "execution_count": 8,
   "metadata": {},
   "outputs": [
    {
     "name": "stdout",
     "output_type": "stream",
     "text": [
      "need friend harry\n"
     ]
    }
   ],
   "source": [
    "# Example query\n",
    "user_query = \"Who is Harry friend ?\"\n",
    "response = get_response(user_query)\n",
    "print(response)"
   ]
  },
  {
   "cell_type": "code",
   "execution_count": 9,
   "metadata": {},
   "outputs": [
    {
     "name": "stdout",
     "output_type": "stream",
     "text": [
      "Type in 'quit' to quit\n",
      "Bot: need friend harry\n",
      "Type in 'quit' to quit\n"
     ]
    }
   ],
   "source": [
    "while True:\n",
    "    print(\"Type in 'quit' to quit\")\n",
    "    user_input = input(\"You: \")\n",
    "    if user_input.lower() == \"quit\":\n",
    "        break\n",
    "    response = get_response(user_input)\n",
    "    print(\"Bot:\", response)"
   ]
  },
  {
   "cell_type": "code",
   "execution_count": 1,
   "metadata": {},
   "outputs": [
    {
     "name": "stdout",
     "output_type": "stream",
     "text": [
      "harry_potter.py creation executed successfully!\n"
     ]
    }
   ],
   "source": [
    "# Create the file harry_potter.py in write mode\n",
    "with open(\"harry_potter.py\", \"w\") as file:\n",
    "    # Writing the Streamlit code into the file\n",
    "    file.write('''\n",
    "    \n",
    "##### Let's build a beginner-friendly chatbot in Streamlit #####\n",
    "# This project will build a chatbot that reads a text file, processes it, and returns relevant answers based on user input.\n",
    "\n",
    "# Importing necessary libraries\n",
    "\n",
    "# nltk (Natural Language Toolkit) library for various text processing tasks\n",
    "import nltk\n",
    "import streamlit as st  # Streamlit is used for building interactive web applications\n",
    "from nltk.tokenize import word_tokenize, sent_tokenize  # Tokenizers for splitting text into words and sentences\n",
    "from nltk.corpus import stopwords  # List of common words (stopwords) that are usually removed from text (like \"is\", \"the\", \"and\")\n",
    "from nltk.stem import WordNetLemmatizer  # Lemmatizer to reduce words to their base form (e.g., 'running' -> 'run')\n",
    "import string  # Python's built-in library for handling strings and punctuation\n",
    "\n",
    "# Uncomment to download necessary NLTK resources if not downloaded already\n",
    "# nltk.download('punkt')\n",
    "# nltk.download('stopwords')\n",
    "# nltk.download('wordnet')\n",
    "\n",
    "# Load stopwords and initialize lemmatizer\n",
    "stop_words = set(stopwords.words('english'))  # Load a set of common English stopwords to filter out later\n",
    "lemmatizer = WordNetLemmatizer()  # Initialize a lemmatizer to reduce words to their base form\n",
    "\n",
    "# Define a function to preprocess text (tokenizing, removing stopwords and punctuation, lemmatizing)\n",
    "def preprocess(sentence):\n",
    "    # Tokenize the sentence into words and convert to lowercase\n",
    "    words = word_tokenize(sentence.lower())\n",
    "    \n",
    "    # Remove stopwords and punctuation from the list of words\n",
    "    words = [word for word in words if word not in stop_words and word not in string.punctuation]\n",
    "    \n",
    "    # Lemmatize each word to convert it to its base form (e.g., 'running' -> 'run')\n",
    "    words = [lemmatizer.lemmatize(word) for word in words]\n",
    "    \n",
    "    # Return the list of processed words\n",
    "    return words\n",
    "\n",
    "# Load the text file (Alice in Wonderland)\n",
    "def load_text():\n",
    "    try:\n",
    "        # Provide the path to the text file\n",
    "        file_path = r'C:/Users/HARDEY/Documents/GOMYCODE/Deep Learning/Harrypotter.txt'\n",
    "        \n",
    "        # Open the file, read its content, and replace newline characters with spaces\n",
    "        with open(file_path, 'r', encoding='utf-8') as file:\n",
    "            return file.read().replace('\\\\n', ' ')\n",
    "    \n",
    "    # Handle case where the file is not found and display an error message in Streamlit\n",
    "    except FileNotFoundError:\n",
    "        st.error(\"Text file not found.\")\n",
    "        return \"\"\n",
    "\n",
    "# Tokenize the text into sentences and preprocess them\n",
    "def prepare_corpus(text):\n",
    "    # Tokenize the text into individual sentences using sent_tokenize\n",
    "    sentences = sent_tokenize(text)\n",
    "    \n",
    "    # Preprocess each sentence (tokenizing, removing stopwords/punctuation, and lemmatizing)\n",
    "    return [preprocess(sentence) for sentence in sentences]\n",
    "\n",
    "# Calculate Jaccard similarity between two sets\n",
    "def jaccard_similarity(query, sentence):\n",
    "    # Convert both the query and sentence to sets (unique words)\n",
    "    query_set = set(query)\n",
    "    sentence_set = set(sentence)\n",
    "    \n",
    "    # If the union of both sets is zero, return 0 to avoid division by zero\n",
    "    if len(query_set.union(sentence_set)) == 0:\n",
    "        return 0\n",
    "    \n",
    "    # Calculate the Jaccard similarity as the size of intersection divided by the size of union\n",
    "    return len(query_set.intersection(sentence_set)) / len(query_set.union(sentence_set))\n",
    "\n",
    "# Find the most relevant sentence using Jaccard similarity\n",
    "def get_most_relevant_sentence(query, corpus, original_sentences):\n",
    "    # Preprocess the user query (tokenization, stopword removal, etc.)\n",
    "    query = preprocess(query)\n",
    "    \n",
    "    # Initialize variables to store the maximum similarity and best matching sentence\n",
    "    max_similarity = 0\n",
    "    best_sentence = \"I couldn't find a relevant answer.\"  # Default response if no match is found\n",
    "    \n",
    "    # Iterate over the corpus of preprocessed sentences to find the best match\n",
    "    for i, sentence in enumerate(corpus):\n",
    "        # Calculate the Jaccard similarity between the user query and the current sentence\n",
    "        similarity = jaccard_similarity(query, sentence)\n",
    "        \n",
    "        # If the similarity score is higher than the current maximum, update the best sentence\n",
    "        if similarity > max_similarity:\n",
    "            max_similarity = similarity\n",
    "            best_sentence = original_sentences[i]  # Retrieve the original sentence (before preprocessing)\n",
    "    \n",
    "    # Return the most relevant sentence (or the default response if no match is found)\n",
    "    return best_sentence\n",
    "\n",
    "# Main function to create the chatbot interface in Streamlit\n",
    "def main():\n",
    "    # Title for the app\n",
    "    st.title(\"Wonderland's Novice Chatbot\")\n",
    "    \n",
    "    # A brief description of the chatbot's purpose\n",
    "    st.write(\"Hello! Ask me anything related to Alice in Wonderland!\")\n",
    "    \n",
    "    # Add a dropdown (expander) for suggested questions\n",
    "    with st.expander(\"Click me for suggestions\"):\n",
    "        st.write(\"\"\"\n",
    "        1. Who does Harry meet first in Hogwarts?\n",
    "        2. What is the Harry famous line?\n",
    "        3. How does Harry Potter enter Hogwarts?\n",
    "        4. What is the Wand use for?\n",
    "        5. Why did Harry Connected with the Voldemort ?\n",
    "        \"\"\")\n",
    "    # Load and prepare text corpus\n",
    "    text = load_text()  # Load the text from the file (Alice in Wonderland)\n",
    "    if text:\n",
    "        # Preprocess the text to create a corpus of tokenized sentences\n",
    "        corpus = prepare_corpus(text)  # Prepares the text into a list of preprocessed sentences\n",
    "        original_sentences = sent_tokenize(text)  # Tokenizes the original text into sentences for later reference\n",
    "\n",
    "        # Get user input from the Streamlit interface\n",
    "        user_input = st.text_input(\"Enter your question:\")  # Input field for the user's question\n",
    "\n",
    "        # If the user clicks the submit button\n",
    "        if st.button(\"Submit\"):\n",
    "            if user_input:\n",
    "                # Get the most relevant sentence from the corpus based on the user's input\n",
    "                response = get_most_relevant_sentence(user_input, corpus, original_sentences)\n",
    "                st.write(f\"Chatbot: {response}\")  # Display the chatbot's response\n",
    "            else:\n",
    "                st.write(\"Please enter a question.\")  # Prompt user to enter a question if the input is empty\n",
    "\n",
    "# Run the Streamlit app\n",
    "if __name__ == \"__main__\":\n",
    "    main()  # Call the main function to run the Streamlit app\n",
    "    ''')\n",
    "\n",
    "print(\"harry_potter.py creation executed successfully!\")"
   ]
  },
  {
   "cell_type": "code",
   "execution_count": null,
   "metadata": {},
   "outputs": [],
   "source": []
  }
 ],
 "metadata": {
  "kernelspec": {
   "display_name": "Python 3 (ipykernel)",
   "language": "python",
   "name": "python3"
  },
  "language_info": {
   "codemirror_mode": {
    "name": "ipython",
    "version": 3
   },
   "file_extension": ".py",
   "mimetype": "text/x-python",
   "name": "python",
   "nbconvert_exporter": "python",
   "pygments_lexer": "ipython3",
   "version": "3.11.7"
  }
 },
 "nbformat": 4,
 "nbformat_minor": 2
}
