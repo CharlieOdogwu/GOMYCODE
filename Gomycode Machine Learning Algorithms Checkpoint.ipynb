{
 "cells": [
  {
   "cell_type": "markdown",
   "id": "5efd5e14",
   "metadata": {},
   "source": [
    "### What You're Aiming For\n",
    "\n",
    "- In this checkpoint, we are going to work on the 'Microsoft Malware' dataset that was provided by Kaggle as part of the Microsoft Malware Prediction competition. This checkpoint will cover all the major concepts of supervised and unsupervised machine learning methods. \n",
    "\n",
    "- Dataset description : This dataset was derived from the original copy and simplified for learning purposes. It contains a set of machines, which run Microsoft Windows OS. The goal of this exercise is to predict a Windows machine’s probability of getting infected by various families of malware, based on different properties of that machine.\n",
    "\n",
    "### Feature/Variable  -\tExplanation\t\t\t\t\t\t\t\t\t\t\t\t\t\n",
    "- Wdft_IsGamer\t= Indicates whether the device is a gamer device or not based on its hardware combination.\t\t\t\t\t\t\t\t\t\t\t\t\t\n",
    "- Census_IsVirtualDevice =\tIdentifies a Virtual Machine (machine learning model)\t\t\t\t\t\t\t\t\t\t\t\t\t\n",
    "- Census_OSEdition  =\tEdition of the current OS\t\t\t\t\t\t\t\t\t\t\t\t\t\n",
    "\n",
    "- Census_HasOpticalDiskDrive =\tTrue indicates that the machine has an optical disk drive (CD/DVD)\t\t\t\t\t\t\t\t\t\t\t\t\t\n",
    "- Firewall\t= This attribute is true (1) for Windows 8.1 and above if windows firewall is enabled, as reported by the service.\t\t\t\t\t\t\t\t\t\t\t\t\t\n",
    "\n",
    "- SMode\t= This field is set to true when the device is known to be in 'S Mode', as in, Windows 10 S mode, where only Microsoft Store apps can be installed\t\t\t\t\t\t\t\t\t\t\t\t\t\n",
    "\n",
    "- IsProtected \t= This is a calculated field derived from the Spynet Report's AV Products field. Returns: a. TRUE if there is at least one active and up-to-date antivirus product running on this machine. b. FALSE if there is no active AV product on this machine, or if the AV is active, but is not receiving the latest updates\t\t\t\t\t\t\t\t\t\t\t\t\t\n",
    "- OsPlatformSubRelease\t= Returns the OS Platform sub-release (Windows Vista, Windows 7, Windows 8, TH1, TH2)\t\t\t\t\t\t\t\t\t\t\t\t\t\n",
    "- CountryIdentifier\t= ID for the country the machine is located in\t\t\t\t\t\t\t\t\t\t\t\t\t\n",
    "\n",
    "#### Instructions\n",
    "\n",
    "- Part1: supervised learning\n",
    "\n",
    "    - Import you data and perform basic data exploration phase\n",
    "    - Display general information about the dataset\n",
    "    - Create a pandas profiling reports to gain insights into the dataset\n",
    "    - Handle Missing and corrupted values\n",
    "    - Remove duplicates, if they exist\n",
    "    - Handle outliers, if they exist\n",
    "    - Encode categorical features\n",
    "    - Prepare your dataset for the modelling phase\n",
    "    - Apply Decision tree, and plot its ROC curve\n",
    "    - Try to improve your model performance by changing the model hyperparameters\n",
    "\n",
    "- Part2: unsupervised learning\n",
    "\n",
    "    - Drop out the target variable\n",
    "    - Apply K means clustering and plot the clusters\n",
    "    - Find the optimal K parameter\n",
    "    - Interpret the results"
   ]
  },
  {
   "cell_type": "markdown",
   "id": "4136d417",
   "metadata": {},
   "source": [
    "### 1. Supervised Learning Using Decision Tree"
   ]
  },
  {
   "cell_type": "code",
   "execution_count": null,
   "id": "2280727e",
   "metadata": {},
   "outputs": [],
   "source": [
    "import warnings\n",
    "warnings.filterwarnings(\"ignore\")"
   ]
  },
  {
   "cell_type": "code",
   "execution_count": null,
   "id": "999e4be3",
   "metadata": {},
   "outputs": [],
   "source": [
    "#import linear algebra and data manipulation libraries\n",
    "import numpy as np\n",
    "import pandas as pd\n",
    "\n",
    "#import standard visualization\n",
    "import matplotlib.pyplot as plt\n",
    "import seaborn as sns\n",
    "\n",
    "from sklearn.tree import DecisionTreeClassifier\n",
    "\n",
    "from sklearn.model_selection import train_test_split #split\n",
    "from sklearn.metrics import accuracy_score #metrics\n",
    "from sklearn.metrics import confusion_matrix\n",
    "from sklearn.metrics import classification_report\n",
    "\n",
    "# import the label Encoder library \n",
    "from sklearn.preprocessing import LabelEncoder\n",
    "label_encoder = LabelEncoder()\n",
    "\n",
    "from sklearn.preprocessing import StandardScaler\n",
    "\n",
    "#tools for hyperparameters search\n",
    "from sklearn.model_selection import StratifiedKFold\n",
    "from sklearn.model_selection import RandomizedSearchCV, GridSearchCV"
   ]
  },
  {
   "cell_type": "code",
   "execution_count": null,
   "id": "faa54cf8",
   "metadata": {
    "scrolled": true
   },
   "outputs": [],
   "source": [
    "data = pd.read_csv(\"Microsoft_malware_dataset_min.csv\")\n",
    "data"
   ]
  },
  {
   "cell_type": "code",
   "execution_count": null,
   "id": "14e61a75",
   "metadata": {},
   "outputs": [],
   "source": [
    "data.describe().T"
   ]
  },
  {
   "cell_type": "code",
   "execution_count": null,
   "id": "518e7618",
   "metadata": {
    "scrolled": true
   },
   "outputs": [],
   "source": [
    "data.info()"
   ]
  },
  {
   "cell_type": "code",
   "execution_count": null,
   "id": "f246f54d",
   "metadata": {},
   "outputs": [],
   "source": [
    "data.isnull().sum()"
   ]
  },
  {
   "cell_type": "code",
   "execution_count": null,
   "id": "092e901c",
   "metadata": {},
   "outputs": [],
   "source": [
    "data[\"Wdft_IsGamer\"].value_counts()"
   ]
  },
  {
   "cell_type": "code",
   "execution_count": null,
   "id": "163a8b50",
   "metadata": {},
   "outputs": [],
   "source": [
    "data[\"Census_IsVirtualDevice\"].value_counts()"
   ]
  },
  {
   "cell_type": "code",
   "execution_count": null,
   "id": "97ef2d74",
   "metadata": {},
   "outputs": [],
   "source": [
    "data[\"SMode\"].value_counts()"
   ]
  },
  {
   "cell_type": "code",
   "execution_count": null,
   "id": "1f233ba2",
   "metadata": {},
   "outputs": [],
   "source": [
    "data[\"Firewall\"].value_counts()"
   ]
  },
  {
   "cell_type": "code",
   "execution_count": null,
   "id": "7219015f",
   "metadata": {},
   "outputs": [],
   "source": [
    "numerical_features = data.select_dtypes(include='number').columns\n",
    "numerical_features"
   ]
  },
  {
   "cell_type": "code",
   "execution_count": null,
   "id": "4536abe3",
   "metadata": {},
   "outputs": [],
   "source": [
    "plt.figure(figsize=(15, 7.5))\n",
    "correlation_matrix = data[numerical_features].corr()\n",
    "sns.heatmap(correlation_matrix, annot=True, cmap='coolwarm', fmt='.2f')\n",
    "plt.title('Correlation Matrix')\n",
    "plt.show()"
   ]
  },
  {
   "cell_type": "code",
   "execution_count": null,
   "id": "48b8ad2e",
   "metadata": {},
   "outputs": [],
   "source": [
    "data = data.dropna()"
   ]
  },
  {
   "cell_type": "code",
   "execution_count": null,
   "id": "274c3e0c",
   "metadata": {},
   "outputs": [],
   "source": [
    "data = data.drop(\"Firewall\", axis = 1)\n",
    "#data = data.drop(\"Census_HasOpticalDiskDrive\", axis = 1)\n",
    "#data = data.drop(\"SMode\", axis = 1)\n",
    "data = data.drop(\"CountryIdentifier\", axis = 1)"
   ]
  },
  {
   "cell_type": "code",
   "execution_count": null,
   "id": "ed9d7550",
   "metadata": {},
   "outputs": [],
   "source": [
    "# Imputation: filling them with a mode placeholder\n",
    "data['Wdft_IsGamer'].fillna(data['Wdft_IsGamer'].mode()[0], inplace=True)\n",
    "data['Census_IsVirtualDevice'].fillna(data['Census_IsVirtualDevice'].mode()[0], inplace=True)\n",
    "data['IsProtected'].fillna(data['IsProtected'].mode()[0], inplace=True)"
   ]
  },
  {
   "cell_type": "code",
   "execution_count": null,
   "id": "58c766fb",
   "metadata": {},
   "outputs": [],
   "source": [
    "data.shape"
   ]
  },
  {
   "cell_type": "code",
   "execution_count": null,
   "id": "b5c45dcd",
   "metadata": {},
   "outputs": [],
   "source": [
    "data = data.drop_duplicates()"
   ]
  },
  {
   "cell_type": "code",
   "execution_count": null,
   "id": "1f253969",
   "metadata": {},
   "outputs": [],
   "source": [
    "categorical_features = data.select_dtypes(include='object').columns\n",
    "categorical_features"
   ]
  },
  {
   "cell_type": "code",
   "execution_count": null,
   "id": "115ab384",
   "metadata": {},
   "outputs": [],
   "source": []
  },
  {
   "cell_type": "code",
   "execution_count": null,
   "id": "4a71c9a4",
   "metadata": {},
   "outputs": [],
   "source": [
    "plt.figure(figsize=(25, 25))\n",
    "for i in range(0, len(numerical_features)):\n",
    "    plt.subplot(8, 2, i+1)\n",
    "    sns.boxplot(x = data[numerical_features[i]], palette = 'viridis')\n",
    "    plt.title(numerical_features[i], fontsize = 30)\n",
    "    plt.xlabel(' ')\n",
    "    plt.tight_layout()"
   ]
  },
  {
   "cell_type": "code",
   "execution_count": null,
   "id": "52fd0aa1",
   "metadata": {},
   "outputs": [],
   "source": [
    "data.info()"
   ]
  },
  {
   "cell_type": "code",
   "execution_count": null,
   "id": "9f58cbf9",
   "metadata": {},
   "outputs": [],
   "source": [
    "#Removing Outliers\n",
    "from scipy.stats import zscore\n",
    "\n",
    "\n",
    "# Calculate Z-scores for all numerical columns\n",
    "z_scores = data[numerical_features].apply(zscore)\n",
    "\n",
    "# Set the Z-score threshold for detecting outliers (commonly 3 or -3)\n",
    "threshold = 3\n",
    "\n",
    "# Remove outliers per column (not requiring all to be below threshold)\n",
    "for col in numerical_features:\n",
    "    data_no_outliers = data[(z_scores[col] < threshold) & (z_scores[col] > -threshold)]\n",
    "\n",
    "# Print the shape of the DataFrame before and after removing outliers\n",
    "print(\"Original shape:\", data.shape)\n",
    "print(\"Shape after removing outliers:\", data_no_outliers.shape)"
   ]
  },
  {
   "cell_type": "code",
   "execution_count": null,
   "id": "9d60c210",
   "metadata": {},
   "outputs": [],
   "source": [
    "# Initialize Label Encoder\n",
    "label_encoder = LabelEncoder()\n",
    "\n",
    "# Apply label encoding to categorical columns\n",
    "for col in categorical_features:\n",
    "    data_no_outliers[col] = label_encoder.fit_transform(data_no_outliers[col])\n",
    "\n",
    "# Check the encoded dataset\n",
    "data_no_outliers.head()"
   ]
  },
  {
   "cell_type": "code",
   "execution_count": null,
   "id": "385b04fb",
   "metadata": {},
   "outputs": [],
   "source": [
    "data = data_no_outliers\n",
    "data"
   ]
  },
  {
   "cell_type": "code",
   "execution_count": null,
   "id": "8b58e760",
   "metadata": {},
   "outputs": [],
   "source": [
    "X = data.drop(columns=[\"HasDetections\"])\n",
    "y = data[\"HasDetections\"]"
   ]
  },
  {
   "cell_type": "code",
   "execution_count": null,
   "id": "a884d51d",
   "metadata": {},
   "outputs": [],
   "source": [
    "X_train, X_test, y_train, y_test = train_test_split(X, y, test_size=0.2, random_state=42)"
   ]
  },
  {
   "cell_type": "code",
   "execution_count": null,
   "id": "6136b7ff",
   "metadata": {},
   "outputs": [],
   "source": [
    "from sklearn.impute import SimpleImputer\n",
    "\n",
    "# Imputing missing values for numerical columns (using median)\n",
    "num_cols = data.select_dtypes(include=['float64', 'int64']).columns\n",
    "imputer_num = SimpleImputer(strategy='median')\n",
    "data[num_cols] = imputer_num.fit_transform(data[num_cols])\n",
    "\n",
    "# Imputing missing values for categorical columns (using most frequent value)\n",
    "cat_cols = ['Census_OSEdition', 'OsPlatformSubRelease']\n",
    "imputer_cat = SimpleImputer(strategy='most_frequent')\n",
    "data[cat_cols] = imputer_cat.fit_transform(data[cat_cols])"
   ]
  },
  {
   "cell_type": "code",
   "execution_count": null,
   "id": "38d17a4e",
   "metadata": {},
   "outputs": [],
   "source": [
    "# Create a StandardScaler instance\n",
    "scaler = StandardScaler()\n",
    "\n",
    "# Fit and transform the training data\n",
    "X_train_scaled = scaler.fit_transform(X_train)\n",
    "\n",
    "# Transform the test data\n",
    "X_test_scaled = scaler.transform(X_test)"
   ]
  },
  {
   "cell_type": "code",
   "execution_count": null,
   "id": "aa1344a8",
   "metadata": {
    "scrolled": true
   },
   "outputs": [],
   "source": [
    "scaler = StandardScaler()\n",
    "X_train_scaled = scaler.fit_transform(X_train)\n",
    "X_test_scaled = scaler.transform(X_test)\n",
    "\n",
    "tree_clf = DecisionTreeClassifier()\n",
    "\n",
    "tree_clf.fit(X_train_scaled, y_train)\n",
    "y_pred_tree = tree_clf.predict(X_test_scaled)\n",
    "accuracy_tree = accuracy_score(y_test, y_pred_tree)\n",
    "conf_matrix_tree = confusion_matrix(y_test, y_pred_tree)\n",
    "class_report_tree = classification_report(y_test, y_pred_tree)\n",
    "\n",
    "print(f\"Decision Tree Classifier:\")\n",
    "print(f\"Accuracy: {accuracy_tree:.4f}\")\n",
    "print(\"Confusion Matrix:\")\n",
    "print(conf_matrix_tree)\n",
    "print(\"Classification Report:\")\n",
    "print(class_report_tree)"
   ]
  },
  {
   "cell_type": "code",
   "execution_count": null,
   "id": "15072085",
   "metadata": {},
   "outputs": [],
   "source": [
    "import matplotlib.pyplot as plt\n",
    "from sklearn.metrics import roc_curve, auc, roc_auc_score\n",
    "\n",
    "# Predict probabilities\n",
    "y_probs = tree_clf.predict_proba(X_test)[:, 1]\n",
    "\n",
    "# Calculate ROC AUC\n",
    "fpr, tpr, thresholds = roc_curve(y_test, y_probs)\n",
    "roc_auc = roc_auc_score(y_test, y_probs)\n",
    "\n",
    "# Plot ROC curve\n",
    "plt.figure()\n",
    "plt.plot(fpr, tpr, label=f'Decision Tree (AUC = {roc_auc:.2f})')\n",
    "plt.xlabel('False Positive Rate')\n",
    "plt.ylabel('True Positive Rate')\n",
    "plt.title('ROC Curve')\n",
    "plt.legend()\n",
    "plt.show()"
   ]
  },
  {
   "cell_type": "markdown",
   "id": "e19b581d",
   "metadata": {},
   "source": [
    "### Unsupervised Learning Using K-means Clustering"
   ]
  },
  {
   "cell_type": "code",
   "execution_count": null,
   "id": "b6781d02",
   "metadata": {},
   "outputs": [],
   "source": [
    "# Drop the target variable 'HasDetections'\n",
    "X_unsupervised = data.drop('HasDetections', axis=1)"
   ]
  },
  {
   "cell_type": "code",
   "execution_count": null,
   "id": "e9464737",
   "metadata": {},
   "outputs": [],
   "source": [
    "from sklearn.cluster import KMeans\n",
    "from sklearn.decomposition import PCA\n",
    "import matplotlib.pyplot as plt\n",
    "\n",
    "# Reduce dimensions using PCA for visualization (optional)\n",
    "pca = PCA(n_components=2)\n",
    "X_pca = pca.fit_transform(X_unsupervised)\n",
    "\n",
    "# Apply K-Means clustering\n",
    "kmeans = KMeans(n_clusters=3, random_state=42)  # Start with an arbitrary k=3\n",
    "kmeans.fit(X_pca)\n",
    "\n",
    "# Plot the clusters\n",
    "plt.scatter(X_pca[:, 0], X_pca[:, 1], c=kmeans.labels_, cmap='viridis', marker='o')\n",
    "plt.title('K-Means Clusters (k=3)')\n",
    "plt.xlabel('Principal Component 1')\n",
    "plt.ylabel('Principal Component 2')\n",
    "plt.show()"
   ]
  },
  {
   "cell_type": "code",
   "execution_count": null,
   "id": "7d506a0c",
   "metadata": {},
   "outputs": [],
   "source": [
    "# Use the elbow method to find the optimal number of clusters\n",
    "inertia = []\n",
    "K_range = range(1, 11)\n",
    "\n",
    "for k in K_range:\n",
    "    kmeans = KMeans(n_clusters=k, random_state=42)\n",
    "    kmeans.fit(X_unsupervised)\n",
    "    inertia.append(kmeans.inertia_)\n",
    "\n",
    "# Plot inertia vs. number of clusters\n",
    "plt.figure()\n",
    "plt.plot(K_range, inertia, 'bx-')\n",
    "plt.xlabel('Number of clusters (K)')\n",
    "plt.ylabel('Inertia')\n",
    "plt.title('Elbow Method For Optimal K')\n",
    "plt.show()"
   ]
  },
  {
   "cell_type": "code",
   "execution_count": null,
   "id": "81a9fd44",
   "metadata": {},
   "outputs": [],
   "source": [
    "# Re-apply K-means using the optimal K (say K=4 from the elbow method)\n",
    "kmeans_optimal = KMeans(n_clusters=2, random_state=42)\n",
    "kmeans_optimal.fit(X_pca)\n",
    "\n",
    "# Plot the optimized clusters\n",
    "plt.scatter(X_pca[:, 0], X_pca[:, 1], c=kmeans_optimal.labels_, cmap='viridis', marker='o')\n",
    "plt.title('K-Means Clusters (Optimal K)')\n",
    "plt.xlabel('Principal Component 1')\n",
    "plt.ylabel('Principal Component 2')\n",
    "plt.show()"
   ]
  }
 ],
 "metadata": {
  "kernelspec": {
   "display_name": "Python 3 (ipykernel)",
   "language": "python",
   "name": "python3"
  },
  "language_info": {
   "codemirror_mode": {
    "name": "ipython",
    "version": 3
   },
   "file_extension": ".py",
   "mimetype": "text/x-python",
   "name": "python",
   "nbconvert_exporter": "python",
   "pygments_lexer": "ipython3",
   "version": "3.11.7"
  }
 },
 "nbformat": 4,
 "nbformat_minor": 5
}
