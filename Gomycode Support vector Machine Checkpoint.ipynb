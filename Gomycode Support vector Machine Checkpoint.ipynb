{
 "cells": [
  {
   "cell_type": "markdown",
   "id": "da5f7aa1",
   "metadata": {},
   "source": [
    "### What You're Aiming For\n",
    "- In this checkpoint, we are going to work on the 'Electric Vehicle Data' dataset that was provided by Kaggle as part of the Electric Vehicle Price Prediction competition.\n",
    "\n",
    "- Dataset description: This dataset contains information on the Battery Electric Vehicles (BEVs) and Plug-in Hybrid Electric Vehicles (PHEVs) that are currently registered with the Washington State Department of Licensing (DOL). This dataset was introduced as part of an official invitation-based competition on Kaggle. Our SVM model should answer the question \"This is my car's model & make, along with a few other parameters, what price can this vehicle be brought or sold?”\n",
    "\n",
    "##### Data Overview\n",
    "- VIN (1-10) - The 1st 10 characters of each vehicle's Vehicle Identification Number (VIN).\n",
    "- County- The county in which the registered owner resides.\n",
    "- City - The city in which the registered owner resides.\n",
    "- State- The state in which the registered owner resides.\n",
    "- ZIP Code - The 5-digit zip code in which the registered owner resides.\n",
    "- Model Year - The model year of the vehicle is determined by decoding the Vehicle Identification Number (VIN).\n",
    "- Make- The manufacturer of the vehicle, determined by decoding the Vehicle Identification Number (VIN).\n",
    "- Model- The model of the vehicle is determined by decoding the Vehicle Identification Number (VIN).\n",
    "- Electric Vehicle Type - This distinguishes the vehicle as all-electric or a plug-in hybrid.\n",
    "- Clean Alternative Fuel Vehicle (CAFV) Eligibility - This categorizes vehicles as Clean Alternative Fuel Vehicles (CAFVs) based on the fuel requirement and electric-only range requirement.\n",
    "- Electric Range - Describes how far a vehicle can travel purely on its electric charge.\n",
    "- Base MSRP - This is the lowest Manufacturer's Suggested Retail Price (MSRP) for any trim level of the model in question.\n",
    "- Legislative District - The specific section of Washington State that the vehicle's owner resides in, as represented in the state legislature.\n",
    "- DOL Vehicle ID - Unique number assigned to each vehicle by the Department of Licensing for identification purposes.\n",
    "- Vehicle Location - The center of the ZIP Code for the registered vehicle.\n",
    "- Electric Utility - This is the electric power retail service territory serving the address of the registered vehicle.\n",
    "- Expected Price - This is the expected price of the vehicle.\n",
    "\n",
    "##### Instructions\n",
    "\n",
    "- Import you data and perform basic data exploration phase\n",
    "    - Display general information about the dataset\n",
    "    - Create a pandas profiling reports to gain insights into the dataset\n",
    "    - Handle Missing and corrupted values\n",
    "    - Remove duplicates, if they exist\n",
    "    - Handle outliers, if they exist\n",
    "    - Encode categorical features\n",
    "- Select your target variable and the features\n",
    "- Split your dataset to training and test sets\n",
    "- Build and train an SVM model on the training set\n",
    "- Assess your model performance on the test set using relevant evaluation metrics\n",
    "- Discuss with your cohort alternative ways to improve your model performance\n"
   ]
  },
  {
   "cell_type": "code",
   "execution_count": null,
   "id": "5fdd4ca0",
   "metadata": {},
   "outputs": [],
   "source": [
    "import warnings\n",
    "warnings.simplefilter(\"ignore\")"
   ]
  },
  {
   "cell_type": "code",
   "execution_count": null,
   "id": "497c5aba",
   "metadata": {},
   "outputs": [],
   "source": [
    "import numpy as np\n",
    "import pandas as pd\n",
    "import matplotlib.pyplot as plt\n",
    "import seaborn as sns\n",
    "from sklearn.svm import SVR\n",
    "from scipy import stats  # Import stats module for Z-score\n",
    "from sklearn.model_selection import train_test_split  # For splitting data into training and testing sets\n",
    "from sklearn.preprocessing import StandardScaler, OneHotEncoder  # For scaling numerical data and encoding categorical data\n",
    "from sklearn.metrics import mean_squared_error, r2_score, make_scorer  # For model evaluation metrics\n",
    "# import the label Encoder library \n",
    "from sklearn.preprocessing import LabelEncoder\n",
    "label_encoder = LabelEncoder()\n",
    "from sklearn.model_selection import GridSearchCV"
   ]
  },
  {
   "cell_type": "code",
   "execution_count": null,
   "id": "308be822",
   "metadata": {},
   "outputs": [],
   "source": [
    "data = pd.read_csv(\"Electric_cars_dataset.csv\")"
   ]
  },
  {
   "cell_type": "code",
   "execution_count": null,
   "id": "bf150339",
   "metadata": {
    "scrolled": true
   },
   "outputs": [],
   "source": [
    "data.head()"
   ]
  },
  {
   "cell_type": "code",
   "execution_count": null,
   "id": "697c4f03",
   "metadata": {},
   "outputs": [],
   "source": [
    "data.info()"
   ]
  },
  {
   "cell_type": "code",
   "execution_count": null,
   "id": "0269f233",
   "metadata": {},
   "outputs": [],
   "source": [
    "data.describe(include = \"number\").T"
   ]
  },
  {
   "cell_type": "code",
   "execution_count": null,
   "id": "f73ad1cb",
   "metadata": {},
   "outputs": [],
   "source": [
    "data.describe(include = 'object')"
   ]
  },
  {
   "cell_type": "code",
   "execution_count": null,
   "id": "12f556b9",
   "metadata": {},
   "outputs": [],
   "source": [
    "data = data.drop(\"ID\", axis = 1)"
   ]
  },
  {
   "cell_type": "code",
   "execution_count": null,
   "id": "0d5d2395",
   "metadata": {},
   "outputs": [],
   "source": [
    "data = data.drop(\"VIN (1-10)\", axis = 1)"
   ]
  },
  {
   "cell_type": "code",
   "execution_count": null,
   "id": "03b91c88",
   "metadata": {
    "scrolled": true
   },
   "outputs": [],
   "source": [
    "print(data.isnull().sum())"
   ]
  },
  {
   "cell_type": "code",
   "execution_count": null,
   "id": "1851ab60",
   "metadata": {},
   "outputs": [],
   "source": [
    "data = data.dropna()"
   ]
  },
  {
   "cell_type": "code",
   "execution_count": null,
   "id": "9fd98387",
   "metadata": {},
   "outputs": [],
   "source": [
    "data.drop_duplicates(inplace=True)"
   ]
  },
  {
   "cell_type": "code",
   "execution_count": null,
   "id": "f0f8d43d",
   "metadata": {},
   "outputs": [],
   "source": [
    "data[\"Base MSRP\"].value_counts()"
   ]
  },
  {
   "cell_type": "code",
   "execution_count": null,
   "id": "c7434d15",
   "metadata": {},
   "outputs": [],
   "source": [
    "data['State'].value_counts()"
   ]
  },
  {
   "cell_type": "code",
   "execution_count": null,
   "id": "652ee41f",
   "metadata": {
    "scrolled": true
   },
   "outputs": [],
   "source": [
    "data['City'].value_counts()"
   ]
  },
  {
   "cell_type": "code",
   "execution_count": null,
   "id": "1c3b060a",
   "metadata": {},
   "outputs": [],
   "source": [
    "#4. Use ydata-profiling to generate a report of the provided dataset.\n",
    "from ydata_profiling import ProfileReport\n",
    "\n",
    "profile = ProfileReport(data, title=\"Electric Cars\", explorative=True)\n",
    "\n",
    "profile.to_file(\"electric_cars_dataset.html\")"
   ]
  },
  {
   "cell_type": "code",
   "execution_count": null,
   "id": "092a4176",
   "metadata": {
    "scrolled": true
   },
   "outputs": [],
   "source": [
    "profile.to_notebook_iframe()"
   ]
  },
  {
   "cell_type": "code",
   "execution_count": null,
   "id": "dc843f7d",
   "metadata": {
    "scrolled": true
   },
   "outputs": [],
   "source": [
    "data.head()"
   ]
  },
  {
   "cell_type": "code",
   "execution_count": null,
   "id": "453cf7a2",
   "metadata": {},
   "outputs": [],
   "source": [
    "data.info()"
   ]
  },
  {
   "cell_type": "code",
   "execution_count": null,
   "id": "38960ada",
   "metadata": {},
   "outputs": [],
   "source": [
    "data['Expected Price ($1k)'] = pd.to_numeric(data['Expected Price ($1k)'], errors='coerce')\n",
    "data['Expected Price ($1k)'] = data['Expected Price ($1k)'].fillna(0).astype(float)"
   ]
  },
  {
   "cell_type": "code",
   "execution_count": null,
   "id": "656a99ff",
   "metadata": {},
   "outputs": [],
   "source": [
    "data['Expected Price ($1k)'] = data['Expected Price ($1k)'].astype(float)"
   ]
  },
  {
   "cell_type": "code",
   "execution_count": null,
   "id": "3521c954",
   "metadata": {
    "scrolled": true
   },
   "outputs": [],
   "source": [
    "categorical_features = data.select_dtypes(include='object').columns\n",
    "categorical_features"
   ]
  },
  {
   "cell_type": "code",
   "execution_count": null,
   "id": "c328fd8c",
   "metadata": {},
   "outputs": [],
   "source": [
    "plt.figure(figsize=(25, 88))  # Reduce figure size for better visibility\n",
    "for i in range(0, len(categorical_features)):\n",
    "    plt.subplot(11, 4, i+1)  # Adjust grid to 11x4 (or whatever fits best)\n",
    "    sns.boxplot(x=categorical_features[i], y='Expected Price ($1k)', data=data, palette='viridis')\n",
    "    plt.title(f'Expected Price ($1k) vs. {categorical_features[i]}', fontsize=15)\n",
    "    plt.xlabel(categorical_features[i], fontsize=12)\n",
    "    plt.xticks(rotation=45)  # Rotate x-axis labels for better readability\n",
    "    plt.ylabel('Expected Price ($1k)', fontsize=12)  # Add y-axis label for clarity\n",
    "\n",
    "# Apply tight_layout after all subplots are created\n",
    "plt.tight_layout()\n",
    "plt.show()"
   ]
  },
  {
   "cell_type": "code",
   "execution_count": null,
   "id": "0212b058",
   "metadata": {},
   "outputs": [],
   "source": [
    "numerical_features = data.select_dtypes(include='number').columns\n",
    "numerical_features"
   ]
  },
  {
   "cell_type": "code",
   "execution_count": null,
   "id": "2586041c",
   "metadata": {},
   "outputs": [],
   "source": [
    "plt.figure(figsize=(25, 25))\n",
    "for i in range(0, len(numerical_features)):\n",
    "    plt.subplot(10, 4, i+1)\n",
    "    sns.boxplot(x = data[numerical_features[i]], palette = 'viridis')\n",
    "    plt.title(numerical_features[i], fontsize = 30)\n",
    "    plt.xlabel(' ')\n",
    "    plt.tight_layout()"
   ]
  },
  {
   "cell_type": "code",
   "execution_count": null,
   "id": "fb6a3618",
   "metadata": {},
   "outputs": [],
   "source": [
    "plt.figure(figsize=(15, 7.5))\n",
    "correlation_matrix = data[numerical_features].corr()\n",
    "sns.heatmap(correlation_matrix, annot=True, cmap='coolwarm', fmt='.2f')\n",
    "plt.title('Correlation Matrix')\n",
    "plt.show()"
   ]
  },
  {
   "cell_type": "code",
   "execution_count": null,
   "id": "9274fadb",
   "metadata": {},
   "outputs": [],
   "source": [
    "data = data.drop(\"Legislative District\", axis = 1)\n",
    "data = data.drop(\"ZIP Code\", axis = 1)\n",
    "data = data.drop(\"DOL Vehicle ID\", axis = 1)\n",
    "data = data.drop(\"Base MSRP\", axis = 1)\n",
    "data = data.drop(\"County\", axis = 1)\n",
    "data = data.drop(\"Vehicle Location\", axis = 1)\n",
    "data = data.drop(\"Electric Utility\", axis = 1)\n",
    "data = data.drop(\"State\", axis = 1)\n",
    "data = data.drop(\"City\", axis = 1)"
   ]
  },
  {
   "cell_type": "code",
   "execution_count": null,
   "id": "b5f91de6",
   "metadata": {},
   "outputs": [],
   "source": [
    "#Removing Outliers\n",
    "from scipy.stats import zscore\n",
    "\n",
    "\n",
    "# Calculate Z-scores for all numerical columns\n",
    "z_scores = data[numerical_features].apply(zscore)\n",
    "\n",
    "# Set the Z-score threshold for detecting outliers (commonly 3 or -3)\n",
    "threshold = 3\n",
    "\n",
    "# Remove outliers per column (not requiring all to be below threshold)\n",
    "for col in numerical_features:\n",
    "    data_no_outliers = data[(z_scores[col] < threshold) & (z_scores[col] > -threshold)]\n",
    "\n",
    "# Print the shape of the DataFrame before and after removing outliers\n",
    "print(\"Original shape:\", data.shape)\n",
    "print(\"Shape after removing outliers:\", data_no_outliers.shape)"
   ]
  },
  {
   "cell_type": "code",
   "execution_count": null,
   "id": "6bb1923a",
   "metadata": {},
   "outputs": [],
   "source": [
    "categorical_cols = ['Make', 'Model', 'Electric Vehicle Type', 'Clean Alternative Fuel Vehicle (CAFV) Eligibility']\n",
    "\n",
    "# Initialize Label Encoder\n",
    "label_encoder = LabelEncoder()\n",
    "\n",
    "# Apply label encoding to categorical columns\n",
    "for col in categorical_cols:\n",
    "    data_no_outliers[col] = label_encoder.fit_transform(data_no_outliers[col])\n",
    "\n",
    "# Check the encoded dataset\n",
    "data_no_outliers.head()"
   ]
  },
  {
   "cell_type": "code",
   "execution_count": null,
   "id": "567aa317",
   "metadata": {},
   "outputs": [],
   "source": [
    "data = data_no_outliers"
   ]
  },
  {
   "cell_type": "code",
   "execution_count": null,
   "id": "fedabf20",
   "metadata": {},
   "outputs": [],
   "source": [
    "data.head()"
   ]
  },
  {
   "cell_type": "code",
   "execution_count": null,
   "id": "d810a6d5",
   "metadata": {},
   "outputs": [],
   "source": [
    "target = 'Expected Price ($1k)'\n",
    "features = ['Make', 'Model', 'Model Year', 'Electric Vehicle Type', 'Electric Range', 'Clean Alternative Fuel Vehicle (CAFV) Eligibility']\n",
    "\n",
    "X = data[features]\n",
    "y = data[target]"
   ]
  },
  {
   "cell_type": "code",
   "execution_count": null,
   "id": "aa255cc9",
   "metadata": {},
   "outputs": [],
   "source": [
    "# Split the dataset\n",
    "X_train, X_test, y_train, y_test = train_test_split(X, y, test_size=0.2, random_state=42)\n",
    "\n",
    "# Check the shape of the splits\n",
    "X_train.shape, X_test.shape"
   ]
  },
  {
   "cell_type": "code",
   "execution_count": null,
   "id": "0c523e9d",
   "metadata": {},
   "outputs": [],
   "source": [
    "# Standardizing the features\n",
    "scaler = StandardScaler()\n",
    "X_train_scaled = scaler.fit_transform(X_train)\n",
    "X_test_scaled = scaler.transform(X_test)\n",
    "\n",
    "# Build and train the SVM model\n",
    "svm_model = SVR(kernel='rbf', C=100, gamma='auto')\n",
    "svm_model.fit(X_train_scaled, y_train)"
   ]
  },
  {
   "cell_type": "code",
   "execution_count": null,
   "id": "c1c24031",
   "metadata": {},
   "outputs": [],
   "source": [
    "# Predictions\n",
    "y_pred = svm_model.predict(X_test_scaled)\n",
    "\n",
    "# Evaluation\n",
    "mse = mean_squared_error(y_test, y_pred)\n",
    "r2 = r2_score(y_test, y_pred)\n",
    "\n",
    "print(f\"Mean Squared Error: {mse}\")\n",
    "print(f\"R² Score: {r2}\")\n"
   ]
  },
  {
   "cell_type": "code",
   "execution_count": null,
   "id": "17eed20d",
   "metadata": {},
   "outputs": [],
   "source": [
    "# Define parameter grid\n",
    "param_grid = {\n",
    "    'C': [1, 10, 100],\n",
    "    'gamma': ['scale', 'auto'],\n",
    "    'kernel': ['rbf', 'linear'],\n",
    "}\n",
    "\n",
    "# Perform GridSearch\n",
    "grid_search = GridSearchCV(SVR(), param_grid, cv=5, scoring='r2')\n",
    "grid_search.fit(X_train_scaled, y_train)\n",
    "\n",
    "print(f\"Best parameters: {grid_search.best_params_}\")"
   ]
  },
  {
   "cell_type": "code",
   "execution_count": null,
   "id": "b5c4adee",
   "metadata": {},
   "outputs": [],
   "source": []
  }
 ],
 "metadata": {
  "kernelspec": {
   "display_name": "Python 3 (ipykernel)",
   "language": "python",
   "name": "python3"
  },
  "language_info": {
   "codemirror_mode": {
    "name": "ipython",
    "version": 3
   },
   "file_extension": ".py",
   "mimetype": "text/x-python",
   "name": "python",
   "nbconvert_exporter": "python",
   "pygments_lexer": "ipython3",
   "version": "3.11.7"
  }
 },
 "nbformat": 4,
 "nbformat_minor": 5
}
