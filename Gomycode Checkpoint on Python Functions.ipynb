{
 "cells": [
  {
   "cell_type": "markdown",
   "id": "f11c18d2",
   "metadata": {},
   "source": [
    "### What You're Aiming For\n",
    "\n",
    "- Create a calculator program that allows the user to perform mathematical operations on two numbers using basic functions and a dictionary to store the operations. The program should also have the ability to continue calculations with the result of previous calculations.\n",
    "\n",
    "\n",
    "#### Instructions\n",
    "\n",
    "- Create four basic mathematical functions: 'add', 'subtract', 'multiply', and 'divide' that take in two numbers and return the result of the operation.\n",
    "\n",
    "- Create a dictionary 'operations' that assigns the functions to their corresponding operation symbols.\n",
    "\n",
    "- Create a function 'calculator' that prompts the user to input the first number.\n",
    "\n",
    "- Use a for loop to print the available operation symbols.\n",
    "\n",
    "- Create a while loop that will continue to run until the user chooses to end the current calculation.\n",
    "\n",
    "- Inside the while loop, prompt the user to select an operation symbol.\n",
    "\n",
    "- Prompt the user to input the second number.\n",
    "\n",
    "- Use the dictionary to retrieve the function that corresponds to the selected operation symbol and store it in a variable 'calculation_function'\n",
    "\n",
    "- Perform the calculation by calling the 'calculation_function' on the two input numbers and store the result in a variable 'answer'.\n",
    "\n",
    "- Print the equation and the result of the calculation.\n",
    "\n",
    "- Ask the user if they would like to continue using the result as the first number for further calculations.\n",
    "\n",
    "- If the user chooses to continue, update the 'num1' variable to the value of 'answer'.\n",
    "\n",
    "- If the user chooses to start a new calculation, set the 'should_continue' variable to false and call the 'calculator' function to start a new calculation.\n",
    "\n",
    "##### Note: Make sure to test the program with different inputs and operations to ensure that it is functioning properly."
   ]
  },
  {
   "cell_type": "code",
   "execution_count": 14,
   "id": "3fdd00c5",
   "metadata": {},
   "outputs": [
    {
     "name": "stdout",
     "output_type": "stream",
     "text": [
      "Type in the first num: 8\n",
      "list of operations\n",
      "+ - * / Choose a symbol [ +, -, *, / : +\n",
      "Type in the second num: 2\n",
      "8 + 2 = 10\n",
      "Would you like to continue with the result, yes/no: yes\n",
      "Choose a symbol [ +, -, *, / : no\n",
      "Type in the second num: 2\n",
      "invalid operation symbol. please choose from +, -, *, /.: \n",
      "Choose a symbol [ +, -, *, / : +\n",
      "Type in the second num: 3\n",
      "10 + 3 = 13\n",
      "Would you like to continue with the result, yes/no: no\n"
     ]
    }
   ],
   "source": [
    "def add (a,b):\n",
    "    return a+b\n",
    "def subtract (a,b):\n",
    "    return a-b\n",
    "def multiply (a,b):\n",
    "    return a*b\n",
    "def divide (a,b):\n",
    "    return a/b\n",
    "\n",
    "calculator_operations = {'+': add, '-': subtract, '*': multiply, '/': divide}\n",
    "\n",
    "def calculator():\n",
    "    first_num = int(input(\"Type in the first num: \"))\n",
    "    print(\"list of operations\")\n",
    "    for operation in calculator_operations:\n",
    "        print(operation, end = \" \")\n",
    "    should_continue = True\n",
    "    while should_continue:\n",
    "        operation_symbols = input(\"Choose a symbol [ +, -, *, / : \")\n",
    "        second_num = int(input(\"Type in the second num: \"))\n",
    "        calculation_function = calculator_operations.get(operation_symbols)\n",
    "        if calculation_function:\n",
    "            answer = calculation_function(first_num, second_num)\n",
    "            print(f'{first_num} {operation_symbols} {second_num} = {answer}')\n",
    "                  \n",
    "            choice = input(\"Would you like to continue with the result, yes/no: \")\n",
    "            if choice.lower() == \"yes\":\n",
    "                  first_num = answer\n",
    "            else:\n",
    "                  should_continue = False\n",
    "        else:\n",
    "            print(\"invalid operation symbol. please choose from +, -, *, /.: \")\n",
    "            \n",
    "calculator()"
   ]
  },
  {
   "cell_type": "code",
   "execution_count": null,
   "id": "17192818",
   "metadata": {},
   "outputs": [],
   "source": []
  }
 ],
 "metadata": {
  "kernelspec": {
   "display_name": "Python 3 (ipykernel)",
   "language": "python",
   "name": "python3"
  },
  "language_info": {
   "codemirror_mode": {
    "name": "ipython",
    "version": 3
   },
   "file_extension": ".py",
   "mimetype": "text/x-python",
   "name": "python",
   "nbconvert_exporter": "python",
   "pygments_lexer": "ipython3",
   "version": "3.11.7"
  }
 },
 "nbformat": 4,
 "nbformat_minor": 5
}
